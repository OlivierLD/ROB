{
 "cells": [
  {
   "cell_type": "markdown",
   "id": "ad139f57",
   "metadata": {},
   "source": [
    "# Log file to deviation curve, in Java"
   ]
  },
  {
   "cell_type": "code",
   "execution_count": 1,
   "id": "7bd240f1",
   "metadata": {},
   "outputs": [],
   "source": [
    "// Requires  ../../gradlew shadowJar from the NMEA-Parser folder\n",
    "%classpath add jar \"../../../NMEA-Parser/build/libs/NMEA-Parser-1.0-all.jar\"\n",
    "// Requires ../gradlew build from the common-utils folder\n",
    "%classpath add jar \"../../../../common-utils/build/libs/common-utils-1.0.jar\"\n",
    "// For the graphics at the end\n",
    "// Needs to be published in the maven local.    \n",
    "// Requires a \"../gradlew publishToMavenLocal\" from the repo at https://github.com/OlivierLD/raspberry-coffee/tree/master/Algebra\n",
    "%maven oliv.raspi.coffee:Algebra:1.0"
   ]
  },
  {
   "cell_type": "markdown",
   "id": "4b685b2f",
   "metadata": {},
   "source": [
    "The generic shape of a deviation curve is\n",
    "$$\n",
    "dev(r) = a + (b \\times \\sin r) + (c \\times \\cos r) + (d \\times \\sin 2r) + (e \\times \\cos 2r)\n",
    "$$\n",
    "\n",
    "We want to solve the following system\n",
    "\n",
    "$$\n",
    "\n",
    "\\begin{vmatrix} a & b & c & d & e \\end{vmatrix} \n",
    "=\n",
    "\\begin{vmatrix}\n",
    "  &n  &\\sum_{i=0}^{n}\\sin(r)  &\\sum_{i=0}^{n}\\cos(r)  &\\sum_{i=0}^{n}\\sin(2r)  &\\sum_{i=0}^{n}\\cos(2r) \\\\\n",
    "  &\\sum_{i=0}^{n}\\sin(r)  &\\sum_{i=0}^{n}\\sin(r)^2  &\\sum_{i=0}^{n}\\sin(r)cos(r)  &\\sum_{i=0}^{n}\\sin(2r)sin(r))  &\\sum_{i=0}^{n}\\cos(2r)sin(r) \\\\\n",
    "  &\\sum_{i=0}^{n}\\cos(r)  &\\sum_{i=0}^{n}\\cos(r)sin(r)  &\\sum_{i=0}^{n}\\cos(r)^2  & \\sum_{i=0}^{n}\\sin(2r)cos(r) &\\sum_{i=0}^{n}\\cos(2r)cos(r) \\\\\n",
    "  &\\sum_{i=0}^{n}\\sin(2r)  &\\sum_{i=0}^{n}\\sin(2r)sin(r)  &\\sum_{i=0}^{n}\\sin(2r)cos(r)  &\\sum_{i=0}^{n}\\sin(2r)^2  &\\sum_{i=0}^{n}\\cos(2r)sin(2r) \\\\\n",
    "  &\\sum_{i=0}^{n}\\cos(2r)  &\\sum_{i=0}^{n}\\cos(2r)sin(r)  &\\sum_{i=0}^{n}\\cos(2r)cos(r)  &\\sum_{i=0}^{n}\\cos(2r)sin(2r)  &\\sum_{i=0}^{n}\\cos(2r)^2\n",
    " \\end{vmatrix}^{-1}\n",
    "\\times\n",
    "\\begin{vmatrix}\n",
    "  &\\sum_{i=0}^{n}\\ dev \\\\\n",
    "  &\\sum_{i=0}^{n}\\ dev.sin(r) \\\\\n",
    "  &\\sum_{i=0}^{n}\\ dev.cos(r) \\\\\n",
    "  &\\sum_{i=0}^{n}\\ dev.sin(2r) \\\\\n",
    "  &\\sum_{i=0}^{n}\\ dev.cos(2r)\n",
    " \\end{vmatrix}\n",
    "\n",
    " $$\n"
   ]
  },
  {
   "cell_type": "markdown",
   "id": "b4b92bef",
   "metadata": {},
   "source": [
    "## Step 1\n",
    "The first step is to turn the log file content into a usable cloud of points.  \n",
    "Points will be defined by\n",
    "- the heading\n",
    "- the corresponding deviation\n",
    "We will be using the `HDG` and `RMC` NMEA Strings.  \n",
    "The default declination will be hard-coded to 14E, aka +14."
   ]
  },
  {
   "cell_type": "code",
   "execution_count": 2,
   "id": "9896d621",
   "metadata": {},
   "outputs": [],
   "source": [
    "import java.io.File;\n",
    "import java.io.FileReader;\n",
    "import java.io.BufferedReader;\n",
    "import nmea.parser.HDG;\n",
    "import nmea.parser.RMC;\n",
    "import nmea.parser.StringParsers;\n",
    "import calc.GeomUtil;"
   ]
  },
  {
   "cell_type": "code",
   "execution_count": 3,
   "id": "0de055f7",
   "metadata": {},
   "outputs": [
    {
     "name": "stdout",
     "output_type": "stream",
     "text": [
      "Log file was found.\n"
     ]
    }
   ],
   "source": [
    "// System.out.printf(\"Current directory :%s\\n\", System.getProperty(\"user.dir\"));\n",
    "// System.out.printf(\"GridSquare test:%s\\n\", GeomUtil.gridSquare(47.677667, -3.135667));\n",
    "\n",
    "File logFile = null;\n",
    "try {\n",
    "    logFile = new File(\"../2010-11-03.Taiohae.nmea\");\n",
    "    if (logFile.exists()) {\n",
    "        System.out.println(\"Log file was found.\");\n",
    "    } else {\n",
    "        System.out.println(\"Oops, Log file was NOT found...\");\n",
    "    }\n",
    "} catch (Exception ex) {\n",
    "    ex.printStackTrace();\n",
    "}"
   ]
  },
  {
   "cell_type": "code",
   "execution_count": 4,
   "id": "d4ad6d95",
   "metadata": {},
   "outputs": [
    {
     "name": "stdout",
     "output_type": "stream",
     "text": [
      "Generated a in-memory cloud of 729 points (729).\n"
     ]
    },
    {
     "data": {
      "text/plain": [
       "java.io.PrintStream@4e1f2e04"
      ]
     },
     "execution_count": 4,
     "metadata": {},
     "output_type": "execute_result"
    }
   ],
   "source": [
    "long nbRec = 0;\n",
    "double decl = 14d; // This must match the logging situation, if not in HDG or RMC\n",
    "\n",
    "private static class LoggedPoint {\n",
    "  double hdm;\n",
    "  double dev;\n",
    "  \n",
    "  public LoggedPoint(double hdm, double dev) {\n",
    "      this.hdm = hdm;\n",
    "      this.dev = dev;\n",
    "  }\n",
    "  \n",
    "  public double getDev() {\n",
    "      return this.dev;\n",
    "  }\n",
    "  public double getHdm() {\n",
    "      return this.hdm;\n",
    "  }\n",
    "}\n",
    "\n",
    "List<LoggedPoint> pointCloud = new ArrayList<>();\n",
    "\n",
    "double standingHDM = -Double.MAX_VALUE;\n",
    "double standingCOG = -Double.MAX_VALUE;\n",
    "\n",
    "boolean boatIsMoving = false;\n",
    "\n",
    "BufferedReader br = new BufferedReader(new FileReader(logFile));\n",
    "String line = \"\";\n",
    "while (line != null) {\n",
    "    line = br.readLine();\n",
    "    if (line != null) {\n",
    "        if (line.startsWith(\"$\") && line.length() > 6) {\n",
    "            StringParsers.ParsedData parsedData = StringParsers.autoParse(line);\n",
    "            if (\"HDG\".equals(parsedData.getSentenceId())) {\n",
    "                HDG heading = (HDG) parsedData.getParsedData();\n",
    "                double hdg = heading.getHeading();\n",
    "                double hdm = hdg;\n",
    "                if (heading.getVariation() != -Double.MAX_VALUE) {\n",
    "                    decl = heading.getVariation();\n",
    "                    // System.out.printf(\"HDG Decl: %f\\n\", decl);\n",
    "                }\n",
    "                if (decl != -Double.MAX_VALUE) {\n",
    "                    hdm += decl;\n",
    "                }\n",
    "                standingHDM = hdm;\n",
    "            } else if (\"RMC\".equals(parsedData.getSentenceId())) {\n",
    "                RMC rmc = (RMC)parsedData.getParsedData();\n",
    "                double cog = rmc.getCog();\n",
    "                double rmcDecl = rmc.getDeclination();\n",
    "                if (rmcDecl != -Double.MAX_VALUE) {\n",
    "                    decl = rmcDecl;\n",
    "                    // System.out.printf(\"RMC Decl: %f\\n\", decl);\n",
    "                }\n",
    "                standingCOG = cog;\n",
    "                double sog = rmc.getSog();\n",
    "                boatIsMoving = (sog > 0);\n",
    "            }\n",
    "        }\n",
    "        if (boatIsMoving && standingCOG != -Double.MAX_VALUE && standingHDM != -Double.MAX_VALUE) {\n",
    "            double dev = standingHDM - standingCOG;\n",
    "            while (dev > 180) {\n",
    "                dev -= 360;\n",
    "            }\n",
    "            while (dev < -180) {\n",
    "                dev += 360;\n",
    "            }\n",
    "            // System.out.printf(\"%s{ \\\"hdm\\\": %f, \\\"dev\\\": %f }\\n\", (nbRec > 0 ? \",\" : \"\"), standingHDM, dev);\n",
    "            pointCloud.add(new LoggedPoint(standingHDM, dev));\n",
    "            \n",
    "            standingCOG = -Double.MAX_VALUE;\n",
    "            standingHDM = -Double.MAX_VALUE;\n",
    "            nbRec++;\n",
    "        }\n",
    "    }\n",
    "}\n",
    "System.out.printf(\"Generated a in-memory cloud of %d points (%d).\\n\", nbRec, pointCloud.size());\n"
   ]
  },
  {
   "cell_type": "markdown",
   "id": "b073c12d",
   "metadata": {},
   "source": [
    "## Step 2\n",
    "Compose the system elements"
   ]
  },
  {
   "cell_type": "code",
   "execution_count": 5,
   "id": "f834e6fc",
   "metadata": {},
   "outputs": [],
   "source": [
    "int dimension = 5;\n",
    "double maxDev = 20d; // Do not use point if abs(dev) > maxDev\n",
    "\n",
    "// The sum holders\n",
    "double n = 0, sinR = 0, cosR = 0, sin2R = 0, cos2R = 0,\n",
    "       sinR2 = 0, sinRcosR = 0, sin2RsinR = 0, cos2RsinR = 0,\n",
    "       cosR2 = 0, sin2RcosR = 0, cos2RcosR = 0, sin2R2 = 0,\n",
    "       cos2Rsin2R = 0, cos2R2 = 0;\n",
    "double d = 0, dSinR = 0, dCosR = 0, dSin2R = 0, dCos2R = 0;"
   ]
  },
  {
   "cell_type": "code",
   "execution_count": 6,
   "id": "7804a81a",
   "metadata": {},
   "outputs": [],
   "source": [
    "pointCloud.stream()\n",
    "          .filter(pt -> Math.abs(pt.dev) < maxDev)\n",
    "          .forEach(point -> {\n",
    "    n += 1;\n",
    "    sinR += Math.sin(Math.toRadians(point.hdm));\n",
    "    cosR += Math.cos(Math.toRadians(point.hdm));\n",
    "    sin2R += Math.sin(2 * Math.toRadians(point.hdm));\n",
    "    cos2R += Math.cos(2 * Math.toRadians(point.hdm));\n",
    "    sinR2 += Math.pow(Math.sin(Math.toRadians(point.hdm)), 2);\n",
    "    sinRcosR += (Math.sin(Math.toRadians(point.hdm)) * Math.cos(Math.toRadians(point.hdm)));\n",
    "    sin2RsinR += (Math.sin(2 * Math.toRadians(point.hdm)) * Math.sin(Math.toRadians(point.hdm)));\n",
    "    cos2RsinR += (Math.cos(2 * Math.toRadians(point.hdm)) * Math.sin(Math.toRadians(point.hdm)));\n",
    "    cosR2 += Math.pow(Math.cos(Math.toRadians(point.hdm)), 2);\n",
    "    sin2RcosR += (Math.sin(2 * Math.toRadians(point.hdm)) * Math.cos(Math.toRadians(point.hdm)));\n",
    "    cos2RcosR += (Math.cos(2 * Math.toRadians(point.hdm)) * Math.cos(Math.toRadians(point.hdm)));\n",
    "    sin2R2 += Math.pow(Math.sin(2 * Math.toRadians(point.hdm)), 2);\n",
    "    cos2Rsin2R += (Math.cos(2 * Math.toRadians(point.hdm)) * Math.sin(2 * Math.toRadians(point.hdm)));\n",
    "    cos2R2 += Math.pow(Math.cos(2 * Math.toRadians(point.hdm)), 2);\n",
    "\n",
    "    d += point.dev;\n",
    "    dSinR += (point.dev * Math.sin(Math.toRadians(point.hdm)));\n",
    "    dCosR += (point.dev * Math.cos(Math.toRadians(point.hdm)));\n",
    "    dSin2R += (point.dev * Math.sin(2 * Math.toRadians(point.hdm)));\n",
    "    dCos2R += (point.dev * Math.cos(2 * Math.toRadians(point.hdm)));\n",
    "});"
   ]
  },
  {
   "cell_type": "code",
   "execution_count": 7,
   "id": "b7bdde7c",
   "metadata": {},
   "outputs": [],
   "source": [
    "import algebra.SquareMatrix;\n",
    "import algebra.SystemUtil;"
   ]
  },
  {
   "cell_type": "code",
   "execution_count": 8,
   "id": "ae73609c",
   "metadata": {},
   "outputs": [],
   "source": [
    "SquareMatrix squareMatrix = new SquareMatrix(dimension);"
   ]
  },
  {
   "cell_type": "code",
   "execution_count": 9,
   "id": "bba15c18",
   "metadata": {},
   "outputs": [],
   "source": [
    "/* Populate the square matrix */\n",
    "// Line 1\n",
    "squareMatrix.setElementAt(0, 0, n);\n",
    "squareMatrix.setElementAt(0, 1, sinR);\n",
    "squareMatrix.setElementAt(0, 2, cosR);\n",
    "squareMatrix.setElementAt(0, 3, sin2R);\n",
    "squareMatrix.setElementAt(0, 4, cos2R);\n",
    "// Line 2\n",
    "squareMatrix.setElementAt(1, 0, sinR);\n",
    "squareMatrix.setElementAt(1, 1, sinR2);\n",
    "squareMatrix.setElementAt(1, 2, sinRcosR);\n",
    "squareMatrix.setElementAt(1, 3, sin2RsinR);\n",
    "squareMatrix.setElementAt(1, 4, cos2RsinR);\n",
    "// Line 3\n",
    "squareMatrix.setElementAt(2, 0, cosR);\n",
    "squareMatrix.setElementAt(2, 1, sinRcosR);\n",
    "squareMatrix.setElementAt(2, 2, cosR2);\n",
    "squareMatrix.setElementAt(2, 3, sin2RcosR);\n",
    "squareMatrix.setElementAt(2, 4, cos2RcosR);\n",
    "// Line 4\n",
    "squareMatrix.setElementAt(3, 0, sin2R);\n",
    "squareMatrix.setElementAt(3, 1, sin2RsinR);\n",
    "squareMatrix.setElementAt(3, 2, sin2RcosR);\n",
    "squareMatrix.setElementAt(3, 3, sin2R2);\n",
    "squareMatrix.setElementAt(3, 4, cos2Rsin2R);\n",
    "// Line 5\n",
    "squareMatrix.setElementAt(4, 0, cos2R);\n",
    "squareMatrix.setElementAt(4, 1, cos2RsinR);\n",
    "squareMatrix.setElementAt(4, 2, cos2RcosR);\n",
    "squareMatrix.setElementAt(4, 3, cos2Rsin2R);\n",
    "squareMatrix.setElementAt(4, 4, cos2R2);"
   ]
  },
  {
   "cell_type": "code",
   "execution_count": 10,
   "id": "a6b2ea53",
   "metadata": {},
   "outputs": [
    {
     "data": {
      "text/plain": [
       "642.484070655878"
      ]
     },
     "execution_count": 10,
     "metadata": {},
     "output_type": "execute_result"
    }
   ],
   "source": [
    "/* Populate the column matrix */\n",
    "double[] constants = new double[dimension];\n",
    "constants[0] = d;\n",
    "constants[1] = dSinR;\n",
    "constants[2] = dCosR;\n",
    "constants[3] = dSin2R;\n",
    "constants[4] = dCos2R;"
   ]
  },
  {
   "cell_type": "markdown",
   "id": "6ca72c13",
   "metadata": {},
   "source": [
    "## Step 3 - Solve the system"
   ]
  },
  {
   "cell_type": "code",
   "execution_count": 11,
   "id": "9d519df5",
   "metadata": {},
   "outputs": [
    {
     "name": "stdout",
     "output_type": "stream",
     "text": [
      "Calculated 5 coefficients.\n"
     ]
    },
    {
     "data": {
      "text/plain": [
       "java.io.PrintStream@4e1f2e04"
      ]
     },
     "execution_count": 11,
     "metadata": {},
     "output_type": "execute_result"
    }
   ],
   "source": [
    "// Solve the system\n",
    "double[] coeffs = SystemUtil.solveSystem(squareMatrix, constants);\n",
    "System.out.printf(\"Calculated %d coefficients.\\n\", coeffs.length)"
   ]
  },
  {
   "cell_type": "code",
   "execution_count": 12,
   "id": "8025748a",
   "metadata": {},
   "outputs": [
    {
     "name": "stdout",
     "output_type": "stream",
     "text": [
      "Coeff a: -3.087894\n",
      "Coeff b: 5.925650\n",
      "Coeff c: -0.726193\n",
      "Coeff d: 3.947782\n",
      "Coeff e: -0.556099\n"
     ]
    },
    {
     "data": {
      "text/plain": [
       "java.io.PrintStream@4e1f2e04"
      ]
     },
     "execution_count": 12,
     "metadata": {},
     "output_type": "execute_result"
    }
   ],
   "source": [
    "// Display coefficients\n",
    "System.out.printf(\"Coeff a: %f\\n\", coeffs[0]);\n",
    "System.out.printf(\"Coeff b: %f\\n\", coeffs[1]);\n",
    "System.out.printf(\"Coeff c: %f\\n\", coeffs[2]);\n",
    "System.out.printf(\"Coeff d: %f\\n\", coeffs[3]);\n",
    "System.out.printf(\"Coeff e: %f\\n\", coeffs[4]);\n"
   ]
  },
  {
   "cell_type": "markdown",
   "id": "6294432c",
   "metadata": {},
   "source": [
    "## Step 4 - Optional Graphics"
   ]
  },
  {
   "cell_type": "code",
   "execution_count": 13,
   "id": "cb654edb",
   "metadata": {},
   "outputs": [],
   "source": [
    "import gsg.SwingUtils.WhiteBoardPanel;\n",
    "import gsg.VectorUtils;\n",
    "import java.util.concurrent.atomic.AtomicInteger;\n",
    "import java.awt.Color;\n",
    "import java.awt.Dimension;\n",
    "import java.awt.Font;"
   ]
  },
  {
   "cell_type": "code",
   "execution_count": 14,
   "id": "b0e7b21a",
   "metadata": {},
   "outputs": [],
   "source": [
    "WhiteBoardPanel whiteBoard = new WhiteBoardPanel();\n",
    "whiteBoard.setAxisColor(new Color(125, 0, 255, 255));\n",
    "whiteBoard.setWithGrid(true);\n",
    "whiteBoard.setBgColor(new Color(250, 250, 250, 255));\n",
    "whiteBoard.setGraphicTitle(\"Dev Curve\");\n",
    "whiteBoard.setSize(new Dimension(800, 600));\n",
    "whiteBoard.setTextColor(Color.RED);\n",
    "whiteBoard.setTitleFont(new Font(\"Arial\", Font.BOLD | Font.ITALIC, 32));\n",
    "whiteBoard.setGraphicMargins(30);\n",
    "whiteBoard.setXEqualsY(false);"
   ]
  },
  {
   "cell_type": "code",
   "execution_count": 15,
   "id": "c4eef8df",
   "metadata": {},
   "outputs": [],
   "source": [
    "List<VectorUtils.Vector2D> cloudVectors = new ArrayList<>();"
   ]
  },
  {
   "cell_type": "code",
   "execution_count": 16,
   "id": "25276d32",
   "metadata": {},
   "outputs": [
    {
     "name": "stdout",
     "output_type": "stream",
     "text": [
      "We have 729 points in the cloud of points.\n"
     ]
    }
   ],
   "source": [
    "System.out.println(String.format(\"We have %d points in the cloud of points.\", pointCloud.size()));\n",
    "pointCloud.stream()\n",
    "          .filter(pt -> Math.abs(pt.dev) < maxDev)\n",
    "          .forEach(point -> {\n",
    "    cloudVectors.add(new VectorUtils.Vector2D(point.getHdm(), point.getDev()));\n",
    "});"
   ]
  },
  {
   "cell_type": "markdown",
   "id": "add0c0cb",
   "metadata": {},
   "source": [
    "Add the cloud of points to the Graphic"
   ]
  },
  {
   "cell_type": "code",
   "execution_count": 17,
   "id": "56741cf4",
   "metadata": {},
   "outputs": [],
   "source": [
    "WhiteBoardPanel.DataSerie pointSerie = new WhiteBoardPanel.DataSerie()\n",
    "                            .data(cloudVectors)\n",
    "                            .graphicType(WhiteBoardPanel.GraphicType.POINTS)\n",
    "                            .circleDiam(6)\n",
    "                            .color(Color.BLUE);\n",
    "whiteBoard.addSerie(pointSerie);"
   ]
  },
  {
   "cell_type": "code",
   "execution_count": 18,
   "id": "d3033d56",
   "metadata": {},
   "outputs": [
    {
     "data": {
      "image/png": "[encoded data removed]",
      "text/plain": [
       "BufferedImage@7dc6dd7b: type = 1 DirectColorModel: rmask=ff0000 gmask=ff00 bmask=ff amask=0 IntegerInterleavedRaster: width = 800 height = 600 #Bands = 3 xOff = 0 yOff = 0 dataOffset[0] 0"
      ]
     },
     "execution_count": 18,
     "metadata": {},
     "output_type": "execute_result"
    }
   ],
   "source": [
    "whiteBoard.getImage(); // This is for a Notebook"
   ]
  },
  {
   "cell_type": "markdown",
   "id": "931c3892",
   "metadata": {},
   "source": [
    "Draw the curve and add it to the Graphic.\n",
    "\n",
    "Reminder: The generic shape of a deviation curve is\n",
    "$$\n",
    "dev = a + (b \\times \\sin r) + (c \\times \\cos r) + (d \\times \\sin 2r) + (e \\times \\cos 2r)\n",
    "$$"
   ]
  },
  {
   "cell_type": "code",
   "execution_count": 19,
   "id": "d193b696",
   "metadata": {},
   "outputs": [],
   "source": [
    "import java.util.function.Function;\n",
    "\n",
    "Function<Double, Double> devCurveFunction = (heading) -> {\n",
    "    return coeffs[0] + \n",
    "          (coeffs[1] * Math.sin(Math.toRadians(heading))) +\n",
    "          (coeffs[2] * Math.cos(Math.toRadians(heading))) +\n",
    "          (coeffs[3] * Math.sin(2 * Math.toRadians(heading))) +\n",
    "          (coeffs[4] * Math.cos(2 * Math.toRadians(heading)));\n",
    "};"
   ]
  },
  {
   "cell_type": "code",
   "execution_count": 20,
   "id": "821188c2",
   "metadata": {},
   "outputs": [],
   "source": [
    "List<VectorUtils.Vector2D> function = new ArrayList<>();"
   ]
  },
  {
   "cell_type": "code",
   "execution_count": 21,
   "id": "9ac5c34a",
   "metadata": {},
   "outputs": [],
   "source": [
    "for (double x=0d; x<360d; x+=1) {\n",
    "    function.add(new VectorUtils.Vector2D(x, devCurveFunction.apply(x)));\n",
    "}"
   ]
  },
  {
   "cell_type": "code",
   "execution_count": 22,
   "id": "a35dbe83",
   "metadata": {},
   "outputs": [
    {
     "data": {
      "image/png": "[encoded data removed]",
      "text/plain": [
       "BufferedImage@77883d6a: type = 1 DirectColorModel: rmask=ff0000 gmask=ff00 bmask=ff amask=0 IntegerInterleavedRaster: width = 800 height = 600 #Bands = 3 xOff = 0 yOff = 0 dataOffset[0] 0"
      ]
     },
     "execution_count": 22,
     "metadata": {},
     "output_type": "execute_result"
    }
   ],
   "source": [
    "WhiteBoardPanel.DataSerie functionSerie = new WhiteBoardPanel.DataSerie()\n",
    "                            .data(function)\n",
    "                            .graphicType(WhiteBoardPanel.GraphicType.LINE)\n",
    "                            .lineThickness(3)\n",
    "                            .color(Color.MAGENTA);\n",
    "whiteBoard.addSerie(functionSerie);\n",
    "\n",
    "whiteBoard.getImage(); // Display whiteboard in a Notebook"
   ]
  },
  {
   "cell_type": "code",
   "execution_count": null,
   "id": "33924519",
   "metadata": {},
   "outputs": [],
   "source": []
  }
 ],
 "metadata": {
  "kernelspec": {
   "display_name": "Java",
   "language": "java",
   "name": "java"
  },
  "language_info": {
   "codemirror_mode": "java",
   "file_extension": ".jshell",
   "mimetype": "text/x-java-source",
   "name": "Java",
   "pygments_lexer": "java",
   "version": "11.0.8+10-LTS"
  }
 },
 "nbformat": 4,
 "nbformat_minor": 5
}
