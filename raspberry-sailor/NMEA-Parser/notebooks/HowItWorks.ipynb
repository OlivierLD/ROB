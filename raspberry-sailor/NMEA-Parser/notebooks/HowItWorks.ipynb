{
 "cells": [
  {
   "cell_type": "markdown",
   "id": "0783d5e6",
   "metadata": {},
   "source": [
    "# Basics: how NMEA Parser work"
   ]
  },
  {
   "cell_type": "markdown",
   "id": "df82e4e3",
   "metadata": {},
   "source": [
    "All NMEA Strings are made out of several parts:\n",
    "- A '$' sign\n",
    "- A Device (aka talker) ID\n",
    "- A Sentence ID\n",
    "- The Sentence data\n",
    "- A Checksum, preceded with a star\n",
    "- A String terminator, usually CR-LF (Carriage Return, and Line Feed)\n",
    "\n",
    "Example, RMC String:\n",
    "```\n",
    " $GPRMC,123519,A,4807.038,N,01131.000,E,022.4,084.4,230394,003.1,W,T*6A\n",
    " || |   |                                                            |\n",
    " || |   |                                                            Checksum, 6A\n",
    " || |   Data, comma-separated, 123519,...,T\n",
    " || Sentence ID, RMC\n",
    " |Talker ID, GP\n",
    " Dollar sign\n",
    "```\n",
    "\n",
    "\n",
    "The Data, per the NMEA Spec:\n",
    "\n",
    "```\n",
    "                                                                  12\n",
    "       1      2 3        4 5         6 7     8     9      10    11\n",
    "$GPRMC,123519,A,4807.038,N,01131.000,E,022.4,084.4,230394,003.1,W,T*6A\n",
    "       |      | |        | |         | |     |     |      |     | |\n",
    "       |      | |        | |         | |     |     |      |     | Type\n",
    "       |      | |        | |         | |     |     |      |     Variation sign\n",
    "       |      | |        | |         | |     |     |      Variation value\n",
    "       |      | |        | |         | |     |     Date DDMMYY\n",
    "       |      | |        | |         | |     COG\n",
    "       |      | |        | |         | SOG\n",
    "       |      | |        | |         Longitude Sign\n",
    "       |      | |        | Longitude Value\n",
    "       |      | |        Latitude Sign\n",
    "       |      | Latitude value\n",
    "       |      Active or Void\n",
    "       UTC\n",
    "\n",
    "```\n",
    "The Sentence IDs, and their corresponding content and structure are defined by the NMEA specification."
   ]
  },
  {
   "cell_type": "markdown",
   "id": "ed247a44",
   "metadata": {},
   "source": [
    "## The checksum"
   ]
  },
  {
   "cell_type": "markdown",
   "id": "011501a4",
   "metadata": {},
   "source": [
    "The first thing to do is to validate the checksum; this will tell you if the sentence is valid, and is worth parsing."
   ]
  },
  {
   "cell_type": "markdown",
   "id": "e71acf69",
   "metadata": {},
   "source": [
    "The checksum validation concerns the part of the string _after_ the `$` sign, and _before_ the `*`.  \n",
    "In the above, this would be `GPRMC,123519,A,4807.038,N,01131.000,E,022.4,084.4,230394,003.1,W,T`."
   ]
  },
  {
   "cell_type": "markdown",
   "id": "9bdbf284",
   "metadata": {},
   "source": [
    "The checksum is the HexaDecimal value of the XOR (aka eXclusive OR) value of each byte of the string to validate."
   ]
  },
  {
   "cell_type": "markdown",
   "id": "cd33121f",
   "metadata": {},
   "source": [
    "Here is a Java example of such an operation:"
   ]
  },
  {
   "cell_type": "code",
   "execution_count": 1,
   "id": "f491f3b2",
   "metadata": {},
   "outputs": [
    {
     "name": "stdout",
     "output_type": "stream",
     "text": [
      "Validating GPRMC,123519,A,4807.038,N,01131.000,E,022.4,084.4,230394,003.1,W\n",
      "...Checksum is now 0x17 \n",
      "...Checksum is now 0x45 \n",
      "...Checksum is now 0x08 \n",
      "...Checksum is now 0x4B \n",
      "...Checksum is now 0x67 \n",
      "...Checksum is now 0x56 \n",
      "...Checksum is now 0x64 \n",
      "...Checksum is now 0x57 \n",
      "...Checksum is now 0x62 \n",
      "...Checksum is now 0x53 \n",
      "...Checksum is now 0x6A \n",
      "...Checksum is now 0x46 \n",
      "...Checksum is now 0x07 \n",
      "...Checksum is now 0x2B \n",
      "...Checksum is now 0x1F \n",
      "...Checksum is now 0x27 \n",
      "...Checksum is now 0x17 \n",
      "...Checksum is now 0x20 \n",
      "...Checksum is now 0x0E \n",
      "...Checksum is now 0x3E \n",
      "...Checksum is now 0x0D \n",
      "...Checksum is now 0x35 \n",
      "...Checksum is now 0x19 \n",
      "...Checksum is now 0x57 \n",
      "...Checksum is now 0x7B \n",
      "...Checksum is now 0x4B \n",
      "...Checksum is now 0x7A \n",
      "...Checksum is now 0x4B \n",
      "...Checksum is now 0x78 \n",
      "...Checksum is now 0x49 \n",
      "...Checksum is now 0x67 \n",
      "...Checksum is now 0x57 \n",
      "...Checksum is now 0x67 \n",
      "...Checksum is now 0x57 \n",
      "...Checksum is now 0x7B \n",
      "...Checksum is now 0x3E \n",
      "...Checksum is now 0x12 \n",
      "...Checksum is now 0x22 \n",
      "...Checksum is now 0x10 \n",
      "...Checksum is now 0x22 \n",
      "...Checksum is now 0x0C \n",
      "...Checksum is now 0x38 \n",
      "...Checksum is now 0x14 \n",
      "...Checksum is now 0x24 \n",
      "...Checksum is now 0x1C \n",
      "...Checksum is now 0x28 \n",
      "...Checksum is now 0x06 \n",
      "...Checksum is now 0x32 \n",
      "...Checksum is now 0x1E \n",
      "...Checksum is now 0x2C \n",
      "...Checksum is now 0x1F \n",
      "...Checksum is now 0x2F \n",
      "...Checksum is now 0x1C \n",
      "...Checksum is now 0x25 \n",
      "...Checksum is now 0x11 \n",
      "...Checksum is now 0x3D \n",
      "...Checksum is now 0x0D \n",
      "...Checksum is now 0x3D \n",
      "...Checksum is now 0x0E \n",
      "...Checksum is now 0x20 \n",
      "...Checksum is now 0x11 \n",
      "...Checksum is now 0x3D \n",
      "...Checksum is now 0x6A \n",
      "Final Checksum 0x6A (decimal 106)\n"
     ]
    },
    {
     "data": {
      "text/plain": [
       "java.io.PrintStream@5ad67260"
      ]
     },
     "execution_count": 1,
     "metadata": {},
     "output_type": "execute_result"
    }
   ],
   "source": [
    "String nmeaSentence = \"$GPRMC,123519,A,4807.038,N,01131.000,E,022.4,084.4,230394,003.1,W*6A\\r\\n\"; // No Type here\n",
    "String str = nmeaSentence.substring(1, nmeaSentence.indexOf(\"*\")); // Assume there IS a star\n",
    "System.out.printf(\"Validating %s\\n\", str);\n",
    "\n",
    "int cs = 0;\n",
    "char[] ca = str.toCharArray();\n",
    "cs = ca[0];\n",
    "for (int i = 1; i < ca.length; i++) {\n",
    "  cs = cs ^ ca[i]; // XOR\n",
    "  System.out.printf(\"...Checksum is now 0x%02X \\n\", cs);\n",
    "}\n",
    "System.out.printf(\"Final Checksum 0x%02X (decimal %d)\\n\", cs, cs);"
   ]
  },
  {
   "cell_type": "markdown",
   "id": "04f68f6b",
   "metadata": {},
   "source": [
    "If the calculated checksum is the same as the one provided in the string itself, then the string is valid. We are looking for a `6A` here."
   ]
  },
  {
   "cell_type": "markdown",
   "id": "eaa525dc",
   "metadata": {},
   "source": [
    "The string happens here to be valid, we can proceed to parsing."
   ]
  },
  {
   "cell_type": "markdown",
   "id": "174492d4",
   "metadata": {},
   "source": [
    "Let's split the data into an array of elements:"
   ]
  },
  {
   "cell_type": "code",
   "execution_count": 2,
   "id": "c5a16183",
   "metadata": {},
   "outputs": [],
   "source": [
    "String[] data = str.split(\",\");"
   ]
  },
  {
   "cell_type": "code",
   "execution_count": 3,
   "id": "d797cad4",
   "metadata": {},
   "outputs": [
    {
     "name": "stdout",
     "output_type": "stream",
     "text": [
      "GPRMC\n",
      "123519\n",
      "A\n",
      "4807.038\n",
      "N\n",
      "01131.000\n",
      "E\n",
      "022.4\n",
      "084.4\n",
      "230394\n",
      "003.1\n",
      "W\n"
     ]
    }
   ],
   "source": [
    "Arrays.asList(data).forEach(System.out::println);"
   ]
  },
  {
   "cell_type": "markdown",
   "id": "4aefd69d",
   "metadata": {},
   "source": [
    "Then, the NMEA spec tells us what element corresponds to what data (starting with index 1).  Look [here](https://gpsd.gitlab.io/gpsd/NMEA.html#_rmc_recommended_minimum_navigation_information) for RMC structure."
   ]
  },
  {
   "cell_type": "markdown",
   "id": "60d0ae6a",
   "metadata": {},
   "source": [
    "**_Important Warning_**: The data are comma-separated, and for the numbers, the decimal separator is `.`. When parsing the data, do make sure the `Locale` is set correctly. For example, if the `Locale` is set to `fr_FR`, the decimal separator will be `,`... which can indeed lead to unexpected results."
   ]
  },
  {
   "cell_type": "code",
   "execution_count": 4,
   "id": "56f62af5",
   "metadata": {},
   "outputs": [
    {
     "name": "stdout",
     "output_type": "stream",
     "text": [
      "User Locale: en_US\n"
     ]
    },
    {
     "data": {
      "text/plain": [
       "java.io.PrintStream@5ad67260"
      ]
     },
     "execution_count": 4,
     "metadata": {},
     "output_type": "execute_result"
    }
   ],
   "source": [
    "System.out.printf(\"User Locale: %s_%s\\n\", System.getProperty(\"user.language\"), System.getProperty(\"user.country\"));"
   ]
  },
  {
   "cell_type": "markdown",
   "id": "a4fb06d5",
   "metadata": {},
   "source": [
    "Good luck!"
   ]
  },
  {
   "cell_type": "code",
   "execution_count": null,
   "id": "c712ea0c",
   "metadata": {},
   "outputs": [],
   "source": []
  }
 ],
 "metadata": {
  "kernelspec": {
   "display_name": "Java",
   "language": "java",
   "name": "java"
  },
  "language_info": {
   "codemirror_mode": "java",
   "file_extension": ".jshell",
   "mimetype": "text/x-java-source",
   "name": "Java",
   "pygments_lexer": "java",
   "version": "11.0.8+10-LTS"
  }
 },
 "nbformat": 4,
 "nbformat_minor": 5
}
