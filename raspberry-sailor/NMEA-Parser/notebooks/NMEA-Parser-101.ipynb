{
 "cells": [
  {
   "cell_type": "markdown",
   "id": "684ca565",
   "metadata": {},
   "source": [
    "# NMEA-Parser 101"
   ]
  },
  {
   "cell_type": "code",
   "execution_count": 13,
   "id": "44b55e53",
   "metadata": {},
   "outputs": [],
   "source": [
    "%classpath add jar \"../build/libs/NMEA-Parser-1.0.jar\""
   ]
  },
  {
   "cell_type": "code",
   "execution_count": 14,
   "id": "5599b066",
   "metadata": {},
   "outputs": [],
   "source": [
    "import nmea.parser.StringGenerator;\n",
    "import nmea.parser.StringParsers;"
   ]
  },
  {
   "cell_type": "markdown",
   "id": "91c95a86",
   "metadata": {},
   "source": [
    "Here we want to parse the following NMEA Sentence:"
   ]
  },
  {
   "cell_type": "code",
   "execution_count": 15,
   "id": "0c36563d",
   "metadata": {},
   "outputs": [],
   "source": [
    "String xdr = \"$BMXDR,C,21.4,C,0,P,102067,P,1*5B\\r\\n\";"
   ]
  },
  {
   "cell_type": "markdown",
   "id": "ba70d17e",
   "metadata": {},
   "source": [
    "First, we make sure the sentence is a valid one.  \n",
    "It it is, we display its meaning."
   ]
  },
  {
   "cell_type": "code",
   "execution_count": 16,
   "id": "57ae4eef",
   "metadata": {},
   "outputs": [
    {
     "name": "stdout",
     "output_type": "stream",
     "text": [
      "XDR: Sensor: 0, Type C, Value: 21.400000\n",
      "XDR: Sensor: 1, Type P, Value: 102067.000000\n"
     ]
    }
   ],
   "source": [
    "final boolean valid = StringParsers.validCheckSum(xdr);\n",
    "if (valid) {\n",
    "    final List<StringGenerator.XDRElement> xdrElements = StringParsers.parseXDR(xdr);\n",
    "    xdrElements.forEach(xdrEl -> System.out.printf(\"XDR: Sensor: %s, Type %s, Value: %f\\n\", xdrEl.getTransducerName(), xdrEl.getTypeNunit().type(), xdrEl.getValue()));\n",
    "} else {\n",
    "    System.out.println(\"Invalid sentence!\");\n",
    "}\n"
   ]
  },
  {
   "cell_type": "markdown",
   "id": "3ae78fee",
   "metadata": {},
   "source": [
    "And this is it for this notebook."
   ]
  }
 ],
 "metadata": {
  "kernelspec": {
   "display_name": "Java",
   "language": "java",
   "name": "java"
  },
  "language_info": {
   "codemirror_mode": "java",
   "file_extension": ".jshell",
   "mimetype": "text/x-java-source",
   "name": "Java",
   "pygments_lexer": "java",
   "version": "11.0.8+10-LTS"
  }
 },
 "nbformat": 4,
 "nbformat_minor": 5
}
