{
 "cells": [
  {
   "cell_type": "markdown",
   "id": "d884573c",
   "metadata": {},
   "source": [
    "# Dead Reckoning, \"by hand\", in Python\n",
    "This sheet intends to show the steps to go through to calculate Estimated Altitude (He) and Azimuth (Z) from scratch, to come up with a **Line of Positions**, without navigation tables.  \n",
    "You might want to get some after that ;)  \n",
    "> **_Note_**: To comply with the logarithm tables, we will use here **_decimal_** logathims.  \n",
    "> natural ones would do to, but this is done for clarity, so you can compare the numbers when using your tables.\n"
   ]
  },
  {
   "cell_type": "markdown",
   "id": "e2dfa56a",
   "metadata": {},
   "source": [
    "The equations to solve are:  \n",
    "$$\n",
    "He = arcsin((sin(L).sin(D)) + (cos(L).cos(D).cos(AHL)))\n",
    "$$\n",
    "\n",
    "$$\n",
    "Z = arctan\\left(\\dfrac{sin(AHL)}{(cos(D).tan(D))-(sin(L).cos(AHL))}\\right)\n",
    "$$\n",
    "The required precision implie the usage of logarithms."
   ]
  },
  {
   "cell_type": "code",
   "execution_count": 78,
   "id": "6254358f",
   "metadata": {},
   "outputs": [],
   "source": [
    "import math"
   ]
  },
  {
   "cell_type": "code",
   "execution_count": 79,
   "id": "299e141f",
   "metadata": {},
   "outputs": [],
   "source": [
    "# Utility function, Decimal to Sexagesimal\n",
    "def dec_to_sex(v: float) -> str:\n",
    "    abs_val: float = abs(v)\n",
    "    int_value: float = math.floor(abs_val)\n",
    "    dec: float = abs_val - int_value\n",
    "    i: int = int(int_value)\n",
    "    dec *= 60.0\n",
    "    return f\"{i}\\u00b0{dec:02.02f}'\""
   ]
  },
  {
   "cell_type": "markdown",
   "id": "8b1435e7",
   "metadata": {},
   "source": [
    "A quick test..."
   ]
  },
  {
   "cell_type": "code",
   "execution_count": 80,
   "id": "6ba6374d",
   "metadata": {},
   "outputs": [
    {
     "name": "stdout",
     "output_type": "stream",
     "text": [
      "37.766666666666666 becomes 37°46.00'\n"
     ]
    }
   ],
   "source": [
    "num: float = 37.0 + (46.0 / 60.0)\n",
    "print(f\"{num} becomes {dec_to_sex(num)}\")\n"
   ]
  },
  {
   "cell_type": "markdown",
   "id": "a4f5592b",
   "metadata": {},
   "source": [
    "We start with the following values:  \n",
    "\n",
    "Estimated position:  \n",
    "$L = N 37^o 46'$  \n",
    "$G = W 122^o 37'$\n",
    "\n",
    "From the almanacs:  \n",
    "$D = S 6^o 10.84'$  \n",
    "$AHG = 135^o 03.5'$  \n",
    "$AHL = 12^o 26.5'$"
   ]
  },
  {
   "cell_type": "markdown",
   "id": "eefd3961",
   "metadata": {},
   "source": [
    "First we look for the Estimated Altitude He.\n",
    "$$\n",
    "He = arcsin((sin(L).sin(D)) + (cos(L).cos(D).cos(AHL)))\n",
    "$$\n",
    "We need to find the logarithms of:  \n",
    "$ sin(L) = sin(37^o46') $  \n",
    "$ sin(D) = sin(-6^o 10.84')$ rounded to $sin(-6^o 11')$  \n",
    "$ cos(L) = cos(37^o 46') $. \n",
    "$ cos(D) = cos(-6^o 10.84')$ rounded to $cos(-6^o 11')$  \n",
    "$ cos(AHL) = cos(12^o 26.5') $ rounded to $cos(12^o 26')$  "
   ]
  },
  {
   "cell_type": "code",
   "execution_count": 81,
   "id": "a79a219d",
   "metadata": {},
   "outputs": [],
   "source": [
    "lat: float = 37.0 + (46.0 / 60.0);\n",
    "lng: float = -(122.0 + (37.0 / 60.0));\n",
    "dec: float = -(6.0 + (11.0 / 60.0));\n",
    "ahl: float = 12.0 + (26.0 / 60.0);"
   ]
  },
  {
   "cell_type": "markdown",
   "id": "13618d59",
   "metadata": {},
   "source": [
    "### He, Direct Calculation"
   ]
  },
  {
   "cell_type": "code",
   "execution_count": 82,
   "id": "8c62766a",
   "metadata": {},
   "outputs": [
    {
     "name": "stdout",
     "output_type": "stream",
     "text": [
      "He: 44°32.92', Bam!\n"
     ]
    }
   ],
   "source": [
    "direct_sin_he: float = (math.sin(math.radians(lat)) * math.sin(math.radians(dec))) + (math.cos(math.radians(lat)) * math.cos(math.radians(dec)) * math.cos(math.radians(ahl)))\n",
    "he_direct: float = math.asin(direct_sin_he)\n",
    "print(f\"He: {dec_to_sex(math.degrees(he_direct))}, Bam!\")"
   ]
  },
  {
   "cell_type": "markdown",
   "id": "1285cf56",
   "metadata": {},
   "source": [
    "### He, With Logarithms"
   ]
  },
  {
   "cell_type": "markdown",
   "id": "01c4e547",
   "metadata": {},
   "source": [
    "Notice that we use the absolute values of the angles (for the logaritms to be happy)."
   ]
  },
  {
   "cell_type": "code",
   "execution_count": 83,
   "id": "f2304977",
   "metadata": {},
   "outputs": [],
   "source": [
    "log_sin_lat: float = math.log10(math.sin(math.radians(abs(lat))))\n",
    "log_sin_dec: float = math.log10(math.sin(math.radians(abs(dec))))\n",
    "log_cos_lat: float = math.log10(math.cos(math.radians(abs(lat))))\n",
    "log_cos_dec: float = math.log10(math.cos(math.radians(abs(dec))))\n",
    "log_cos_ahl: float = math.log10(math.cos(math.radians(abs(ahl))))"
   ]
  },
  {
   "cell_type": "code",
   "execution_count": 84,
   "id": "bace894e",
   "metadata": {},
   "outputs": [
    {
     "name": "stdout",
     "output_type": "stream",
     "text": [
      "log(sin(L)) = -0.2129313065378506\n",
      "log(sin(D)) = -0.9677433114478232\n",
      "log(cos(L)) = -0.10209183331126717\n",
      "log(cos(D)) = -0.0025339566758692165\n",
      "log(cos(AHL)) = -0.01030676749454674\n"
     ]
    }
   ],
   "source": [
    "print(f\"log(sin(L)) = {log_sin_lat}\")\n",
    "print(f\"log(sin(D)) = {log_sin_dec}\")\n",
    "print(f\"log(cos(L)) = {log_cos_lat}\")\n",
    "print(f\"log(cos(D)) = {log_cos_dec}\")\n",
    "print(f\"log(cos(AHL)) = {log_cos_ahl}\")"
   ]
  },
  {
   "cell_type": "code",
   "execution_count": 85,
   "id": "69861c8f",
   "metadata": {},
   "outputs": [
    {
     "name": "stdout",
     "output_type": "stream",
     "text": [
      "log(sin(L).sin(D)) = (-0.2129313065378506) + (-0.9677433114478232) = -1.1806746179856737\n"
     ]
    }
   ],
   "source": [
    "log_sin_lat_sin_dec: float = log_sin_lat + log_sin_dec;\n",
    "print(f\"log(sin(L).sin(D)) = ({log_sin_lat}) + ({log_sin_dec}) = {log_sin_lat_sin_dec}\")"
   ]
  },
  {
   "cell_type": "code",
   "execution_count": 86,
   "id": "1c43f73c",
   "metadata": {},
   "outputs": [
    {
     "name": "stdout",
     "output_type": "stream",
     "text": [
      "sin(L).sin(D) = 0.06596679464156176\n"
     ]
    }
   ],
   "source": [
    "sin_l_sin_d: float = pow(10, log_sin_lat_sin_dec);  # exponential base 10\n",
    "print(f\"sin(L).sin(D) = {sin_l_sin_d}\")"
   ]
  },
  {
   "cell_type": "code",
   "execution_count": 87,
   "id": "58946658",
   "metadata": {},
   "outputs": [
    {
     "name": "stdout",
     "output_type": "stream",
     "text": [
      "log(cos(L).cos(D).cos(AHL)) = (-0.10209183331126717) + (-0.0025339566758692165) + (-0.01030676749454674) = -0.11493255748168313\n"
     ]
    }
   ],
   "source": [
    "log_cos_l_cos_d_cos_AHL: float = log_cos_lat + log_cos_dec + log_cos_ahl;\n",
    "print(f\"log(cos(L).cos(D).cos(AHL)) = ({log_cos_lat}) + ({log_cos_dec}) + ({log_cos_ahl}) = {log_cos_l_cos_d_cos_AHL}\")"
   ]
  },
  {
   "cell_type": "code",
   "execution_count": 88,
   "id": "bad1fbeb",
   "metadata": {},
   "outputs": [
    {
     "name": "stdout",
     "output_type": "stream",
     "text": [
      "cos(L).cos(D).cos(AHL) = 0.7674806638207804\n"
     ]
    }
   ],
   "source": [
    "cos_l_cos_d_cos_AHL: float = pow(10, log_cos_l_cos_d_cos_AHL); # exponential base 10\n",
    "print(f\"cos(L).cos(D).cos(AHL) = {cos_l_cos_d_cos_AHL}\")"
   ]
  },
  {
   "cell_type": "code",
   "execution_count": 89,
   "id": "e57a326b",
   "metadata": {},
   "outputs": [
    {
     "name": "stdout",
     "output_type": "stream",
     "text": [
      "sin(L).sin(D) + cos(L).cos(D).cos(AHL) = -0.7015138691792187\n",
      "He: 44°32.92'\n"
     ]
    }
   ],
   "source": [
    "# this sign evaluation may need some love...\n",
    "sign: int = 1 if (abs(lat) == lat) else -1\n",
    "sign *= 1 if (abs(dec) == dec) else -1\n",
    "sign *= 1 if (abs(ahl) == ahl) else -1\n",
    "\n",
    "the_sum: float = sin_l_sin_d + (sign * cos_l_cos_d_cos_AHL)  # SIGN !!!\n",
    "print(f\"sin(L).sin(D) + cos(L).cos(D).cos(AHL) = {the_sum}\")\n",
    "\n",
    "print(f\"He: {dec_to_sex(math.degrees(math.asin(the_sum)))}\")"
   ]
  },
  {
   "cell_type": "markdown",
   "id": "d2998965",
   "metadata": {},
   "source": [
    "### Z, direct"
   ]
  },
  {
   "cell_type": "code",
   "execution_count": 90,
   "id": "9df6b773",
   "metadata": {},
   "outputs": [
    {
     "name": "stdout",
     "output_type": "stream",
     "text": [
      "Z: 17°28.74'\n"
     ]
    }
   ],
   "source": [
    "tan_z: float = math.sin(math.radians(ahl)) / ((math.cos(math.radians(lat)) * math.tan(math.radians(dec))) - (math.sin(math.radians(lat)) * math.cos(math.radians(ahl))))\n",
    "z_direct = abs(math.atan(tan_z));\n",
    "print(f\"Z: {dec_to_sex(math.degrees(z_direct))}\")"
   ]
  },
  {
   "cell_type": "markdown",
   "id": "d055dcf4",
   "metadata": {},
   "source": [
    "### Z, with logarithms"
   ]
  },
  {
   "cell_type": "markdown",
   "id": "e9de1ec4",
   "metadata": {},
   "source": [
    "We need extra values"
   ]
  },
  {
   "cell_type": "code",
   "execution_count": 91,
   "id": "71be9d88",
   "metadata": {},
   "outputs": [
    {
     "name": "stdout",
     "output_type": "stream",
     "text": [
      "log(tan(D)) = -0.9652093547719539\n"
     ]
    }
   ],
   "source": [
    "log_tan_dec: float = math.log10(math.tan(math.radians(abs(dec))))\n",
    "print(f\"log(tan(D)) = {log_tan_dec}\")"
   ]
  },
  {
   "cell_type": "code",
   "execution_count": 92,
   "id": "982db51e",
   "metadata": {},
   "outputs": [
    {
     "name": "stdout",
     "output_type": "stream",
     "text": [
      "log(sin(AHL)) = -0.6669489188608413\n"
     ]
    }
   ],
   "source": [
    "log_sin_ahl: float = math.log10(math.sin(math.radians(abs(ahl))))\n",
    "print(f\"log(sin(AHL)) = {log_sin_ahl}\")"
   ]
  },
  {
   "cell_type": "code",
   "execution_count": 93,
   "id": "0e531995",
   "metadata": {},
   "outputs": [
    {
     "name": "stdout",
     "output_type": "stream",
     "text": [
      "log(cos(L).tan(D)) = -1.067301188083221\n"
     ]
    }
   ],
   "source": [
    "log_cos_l_tan_d = log_cos_lat + log_tan_dec\n",
    "print(f\"log(cos(L).tan(D)) = {log_cos_l_tan_d}\")"
   ]
  },
  {
   "cell_type": "code",
   "execution_count": 94,
   "id": "f566daec",
   "metadata": {},
   "outputs": [
    {
     "name": "stdout",
     "output_type": "stream",
     "text": [
      "log(sin(L).cos(AHL)) = (-0.2129313065378506) + (-0.01030676749454674) = -0.22323807403239734\n"
     ]
    }
   ],
   "source": [
    "log_sin_l_cos_AHL = log_sin_lat + log_cos_ahl;\n",
    "print(f\"log(sin(L).cos(AHL)) = ({log_sin_lat}) + ({log_cos_ahl}) = {log_sin_l_cos_AHL}\")"
   ]
  },
  {
   "cell_type": "code",
   "execution_count": 95,
   "id": "27fc286d",
   "metadata": {},
   "outputs": [
    {
     "name": "stdout",
     "output_type": "stream",
     "text": [
      "Denominator: (0.08564436859457944) - (0.5980836442675889) = -0.6837280128621683\n"
     ]
    }
   ],
   "source": [
    "cos_l_tan_d: float = pow(10, log_cos_l_tan_d);\n",
    "sin_l_cos_AHL: float = pow(10, log_sin_l_cos_AHL);\n",
    "denom: float = - cos_l_tan_d - sin_l_cos_AHL;  # -1 * cosLtanD, different signes.\n",
    "print(f\"Denominator: ({cos_l_tan_d}) - ({sin_l_cos_AHL}) = {denom}\")"
   ]
  },
  {
   "cell_type": "code",
   "execution_count": 96,
   "id": "5d8acc96",
   "metadata": {},
   "outputs": [
    {
     "name": "stdout",
     "output_type": "stream",
     "text": [
      "Z: 17°28.74'\n"
     ]
    }
   ],
   "source": [
    "tan_z = pow(10, log_sin_ahl) / denom;\n",
    "print(f\"Z: {dec_to_sex(math.degrees(math.atan(abs(tan_z))))}\")"
   ]
  },
  {
   "cell_type": "markdown",
   "id": "bd4e97ff",
   "metadata": {},
   "source": [
    "And like before:"
   ]
  },
  {
   "cell_type": "code",
   "execution_count": 97,
   "id": "c80219ed",
   "metadata": {},
   "outputs": [
    {
     "name": "stdout",
     "output_type": "stream",
     "text": [
      "Z becomes 197°28.74'\n"
     ]
    }
   ],
   "source": [
    "print(f\"Z becomes {dec_to_sex(180 + math.degrees(math.atan(abs(tan_z))))}\")"
   ]
  },
  {
   "cell_type": "markdown",
   "id": "270ea93e",
   "metadata": {},
   "source": [
    "---\n",
    "This concludes the Python demo."
   ]
  }
 ],
 "metadata": {
  "kernelspec": {
   "display_name": "Python 3 (ipykernel)",
   "language": "python",
   "name": "python3"
  },
  "language_info": {
   "codemirror_mode": {
    "name": "ipython",
    "version": 3
   },
   "file_extension": ".py",
   "mimetype": "text/x-python",
   "name": "python",
   "nbconvert_exporter": "python",
   "pygments_lexer": "ipython3",
   "version": "3.11.3"
  }
 },
 "nbformat": 4,
 "nbformat_minor": 5
}
