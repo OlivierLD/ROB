{
 "cells": [
  {
   "cell_type": "markdown",
   "id": "39ec91ee",
   "metadata": {},
   "source": [
    "# Dead Reckoning, by hand\n",
    "This sheet intends to show the steps to go through to calculate Estimated Altitude (He) and Azimuth (Z) from scratch, without navigation tables.  \n",
    "You might want to get some fter that ;)  \n",
    "> **_Note_**: To comply with the logarithm tables, we will use here **_decimal_** logathims.  \n",
    "> natural ones would do to, but this is done for clarity, so you can compare the numbers when using your tables.\n"
   ]
  },
  {
   "cell_type": "markdown",
   "id": "d2ab951f",
   "metadata": {},
   "source": [
    "The equations to solve are:  \n",
    "$$\n",
    "He = arcsin((sin(L).sin(D)) + (cos(L).cos(D).cos(AHL)))\n",
    "$$\n",
    "\n",
    "$$\n",
    "Z = arctan\\left(\\frac{sin(AHL)}{(cos(D).tan(D))-(sin(L).cos(AHL))}\\right)\n",
    "$$\n",
    "The required precision implie the usage of logarithms."
   ]
  },
  {
   "cell_type": "code",
   "execution_count": 144,
   "id": "ee77067c",
   "metadata": {},
   "outputs": [],
   "source": [
    "import java.math.*;\n",
    "import java.text.DecimalFormat;"
   ]
  },
  {
   "cell_type": "code",
   "execution_count": 145,
   "id": "5d831753",
   "metadata": {},
   "outputs": [],
   "source": [
    "static String decToSex(double v) {\n",
    "    String s = \"\";\n",
    "    double absVal = Math.abs(v);\n",
    "    double intValue = Math.floor(absVal);\n",
    "    double dec = absVal - intValue;\n",
    "    int i = (int) intValue;\n",
    "    dec *= 60D;\n",
    "    DecimalFormat df = new DecimalFormat(\"00.00\");\n",
    "    return Integer.toString(i) + '\\272' + df.format(dec) + \"'\";\n",
    "}"
   ]
  },
  {
   "cell_type": "markdown",
   "id": "457f5a37",
   "metadata": {},
   "source": [
    "We start with the following values:  \n",
    "\n",
    "Estimated position:  \n",
    "$L = N 37^o 46'$  \n",
    "$G = W 122^o 37'$\n",
    "\n",
    "From the almanacs:  \n",
    "$D = S 6^o 10.84'$  \n",
    "$AHG = 135^o 03.5'$  \n",
    "$AHL = 12^o 26.5'$"
   ]
  },
  {
   "cell_type": "markdown",
   "id": "08dace4b",
   "metadata": {},
   "source": [
    "First we look for the Estimated Altitude He.\n",
    "$$\n",
    "He = arcsin((sin(L).sin(D)) + (cos(L).cos(D).cos(AHL)))\n",
    "$$\n",
    "We need to find the logarithms of:  \n",
    "$ sin(L) = sin(37^o46') $  \n",
    "$ sin(D) = sin(-6^o 10.84')$ rounded to $sin(-6^o 11')$  \n",
    "$ cos(L) = cos(37^o 46') $. \n",
    "$ cos(D) = cos(-6^o 10.84')$ rounded to $cos(-6^o 11')$  \n",
    "$ cos(AHL) = cos(12^o 26.5') $ rounded to $cos(12^o 26')$  "
   ]
  },
  {
   "cell_type": "code",
   "execution_count": 146,
   "id": "750c3c16",
   "metadata": {},
   "outputs": [],
   "source": [
    "double lat = 37.0 + (46.0 / 60.0);\n",
    "double lng = -(122.0 + (37.0 / 60.0));\n",
    "double dec = -(6.0 + (11.0 / 60.0));\n",
    "double ahl = 12.0 + (26.0 / 60.0);"
   ]
  },
  {
   "cell_type": "markdown",
   "id": "0779e5e7",
   "metadata": {},
   "source": [
    "### He, Direct Calculation"
   ]
  },
  {
   "cell_type": "code",
   "execution_count": 155,
   "id": "958160dc",
   "metadata": {},
   "outputs": [
    {
     "name": "stdout",
     "output_type": "stream",
     "text": [
      "He: 44º32.92', Bam!\n"
     ]
    },
    {
     "data": {
      "text/plain": [
       "java.io.PrintStream@4b32c208"
      ]
     },
     "execution_count": 155,
     "metadata": {},
     "output_type": "execute_result"
    }
   ],
   "source": [
    "double directSinHe = (Math.sin(Math.toRadians(lat)) * Math.sin(Math.toRadians(dec))) + (Math.cos(Math.toRadians(lat)) * Math.cos(Math.toRadians(dec)) * Math.cos(Math.toRadians(ahl)));\n",
    "double heDirect = Math.asin(directSinHe);\n",
    "System.out.printf(\"He: %s, Bam!\\n\", decToSex(Math.toDegrees(heDirect)));"
   ]
  },
  {
   "cell_type": "markdown",
   "id": "54551a39",
   "metadata": {},
   "source": [
    "### He, With Logarithms"
   ]
  },
  {
   "cell_type": "markdown",
   "id": "2b2d5ee5",
   "metadata": {},
   "source": [
    "Notice that we use the absolute values of the angles (for the logaritms to be happy)."
   ]
  },
  {
   "cell_type": "code",
   "execution_count": 148,
   "id": "3851f6d5",
   "metadata": {},
   "outputs": [],
   "source": [
    "double logSinLat = Math.log10(Math.sin(Math.toRadians(Math.abs(lat))));\n",
    "double logSinDec = Math.log10(Math.sin(Math.toRadians(Math.abs(dec))));\n",
    "double logCosLat = Math.log10(Math.cos(Math.toRadians(Math.abs(lat))));\n",
    "double logCosDec = Math.log10(Math.cos(Math.toRadians(Math.abs(dec))));\n",
    "double logCosAhl = Math.log10(Math.cos(Math.toRadians(Math.abs(ahl))));"
   ]
  },
  {
   "cell_type": "code",
   "execution_count": 149,
   "id": "5309fa28",
   "metadata": {},
   "outputs": [
    {
     "name": "stdout",
     "output_type": "stream",
     "text": [
      "log(sin(L)) = -0.212931\n",
      "log(sin(D)) = -0.967743\n",
      "log(cos(L)) = -0.102092\n",
      "log(cos(D)) = -0.002534\n",
      "log(cos(AHL)) = -0.010307\n"
     ]
    },
    {
     "data": {
      "text/plain": [
       "java.io.PrintStream@4b32c208"
      ]
     },
     "execution_count": 149,
     "metadata": {},
     "output_type": "execute_result"
    }
   ],
   "source": [
    "System.out.printf(\"log(sin(L)) = %f\\n\", logSinLat);\n",
    "System.out.printf(\"log(sin(D)) = %f\\n\", logSinDec);\n",
    "System.out.printf(\"log(cos(L)) = %f\\n\", logCosLat);\n",
    "System.out.printf(\"log(cos(D)) = %f\\n\", logCosDec);\n",
    "System.out.printf(\"log(cos(AHL)) = %f\\n\", logCosAhl);"
   ]
  },
  {
   "cell_type": "code",
   "execution_count": 150,
   "id": "1e9106b2",
   "metadata": {},
   "outputs": [
    {
     "name": "stdout",
     "output_type": "stream",
     "text": [
      "log(sin(L).sin(D)) = (-0.212931) + (-0.967743) = -1.180675\n"
     ]
    },
    {
     "data": {
      "text/plain": [
       "java.io.PrintStream@4b32c208"
      ]
     },
     "execution_count": 150,
     "metadata": {},
     "output_type": "execute_result"
    }
   ],
   "source": [
    "double logSinLatSinDec = logSinLat + logSinDec;\n",
    "System.out.printf(\"log(sin(L).sin(D)) = (%f) + (%f) = %f\\n\", logSinLat, logSinDec, logSinLatSinDec);"
   ]
  },
  {
   "cell_type": "code",
   "execution_count": 151,
   "id": "3515b927",
   "metadata": {},
   "outputs": [
    {
     "name": "stdout",
     "output_type": "stream",
     "text": [
      "sin(L).sin(D) = 0.065967\n"
     ]
    },
    {
     "data": {
      "text/plain": [
       "java.io.PrintStream@4b32c208"
      ]
     },
     "execution_count": 151,
     "metadata": {},
     "output_type": "execute_result"
    }
   ],
   "source": [
    "double sinLsinD = Math.pow(10, logSinLatSinDec);  // exponential base 10\n",
    "System.out.printf(\"sin(L).sin(D) = %f\\n\", sinLsinD);"
   ]
  },
  {
   "cell_type": "code",
   "execution_count": 152,
   "id": "f5851608",
   "metadata": {},
   "outputs": [
    {
     "name": "stdout",
     "output_type": "stream",
     "text": [
      "log(cos(L).cos(D).cos(AHL)) = (-0.102092) + (-0.002534) + (-0.010307) = -0.114933\n"
     ]
    },
    {
     "data": {
      "text/plain": [
       "java.io.PrintStream@4b32c208"
      ]
     },
     "execution_count": 152,
     "metadata": {},
     "output_type": "execute_result"
    }
   ],
   "source": [
    "double logCosLCosDCosAHL = logCosLat + logCosDec + logCosAhl;\n",
    "System.out.printf(\"log(cos(L).cos(D).cos(AHL)) = (%f) + (%f) + (%f) = %f\\n\", logCosLat, logCosDec, logCosAhl, logCosLCosDCosAHL);\n"
   ]
  },
  {
   "cell_type": "code",
   "execution_count": 153,
   "id": "c686d9ab",
   "metadata": {},
   "outputs": [
    {
     "name": "stdout",
     "output_type": "stream",
     "text": [
      "cos(L).cos(D).cos(AHL) = 0.767481\n"
     ]
    },
    {
     "data": {
      "text/plain": [
       "java.io.PrintStream@4b32c208"
      ]
     },
     "execution_count": 153,
     "metadata": {},
     "output_type": "execute_result"
    }
   ],
   "source": [
    "double cosLcosDcosAHL = Math.pow(10, logCosLCosDCosAHL); // exponential base 10\n",
    "System.out.printf(\"cos(L).cos(D).cos(AHL) = %f\\n\", cosLcosDcosAHL);"
   ]
  },
  {
   "cell_type": "code",
   "execution_count": 154,
   "id": "dc7f8326",
   "metadata": {},
   "outputs": [
    {
     "name": "stdout",
     "output_type": "stream",
     "text": [
      "sin(L).sin(D) + cos(L).cos(D).cos(AHL) = -0.701514\n",
      "He: 44º32.92'\n"
     ]
    },
    {
     "data": {
      "text/plain": [
       "java.io.PrintStream@4b32c208"
      ]
     },
     "execution_count": 154,
     "metadata": {},
     "output_type": "execute_result"
    }
   ],
   "source": [
    "// this sign evaluation may need some love...\n",
    "int sign = (Math.abs(lat) == lat) ? 1 : -1;\n",
    "sign *= (Math.abs(dec) == dec) ? 1 : -1;\n",
    "sign *= (Math.abs(ahl) == ahl) ? 1 : -1;\n",
    "\n",
    "double theSum = sinLsinD + (sign * cosLcosDcosAHL);  // SIGN !!!\n",
    "System.out.printf(\"sin(L).sin(D) + cos(L).cos(D).cos(AHL) = %f\\n\", theSum);\n",
    "\n",
    "System.out.printf(\"He: %s\\n\", decToSex(Math.toDegrees(Math.asin(theSum))));"
   ]
  },
  {
   "cell_type": "markdown",
   "id": "f5cd9501",
   "metadata": {},
   "source": [
    "### Z, direct"
   ]
  },
  {
   "cell_type": "code",
   "execution_count": null,
   "id": "c1c42c37",
   "metadata": {},
   "outputs": [],
   "source": []
  }
 ],
 "metadata": {
  "kernelspec": {
   "display_name": "Java",
   "language": "java",
   "name": "java"
  },
  "language_info": {
   "codemirror_mode": "java",
   "file_extension": ".jshell",
   "mimetype": "text/x-java-source",
   "name": "Java",
   "pygments_lexer": "java",
   "version": "11.0.8+10-LTS"
  }
 },
 "nbformat": 4,
 "nbformat_minor": 5
}
