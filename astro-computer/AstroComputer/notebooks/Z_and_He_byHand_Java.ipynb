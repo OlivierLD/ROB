{
 "cells": [
  {
   "cell_type": "markdown",
   "id": "c58733ec",
   "metadata": {},
   "source": [
    "# Dead Reckoning, \"by hand\", in Java\n",
    "This sheet intends to show the steps to go through to calculate Estimated Altitude (He) and Azimuth (Z) from scratch, to come up with a **Line of Positions**, without navigation tables.  \n",
    "You might want to get some after that ;)  \n",
    "> **_Note_**: To comply with the logarithm tables, we will use here **_decimal_** logathims.  \n",
    "> natural ones would do to, but this is done for clarity, so you can compare the numbers when using your tables.\n"
   ]
  },
  {
   "cell_type": "markdown",
   "id": "7c3f774c",
   "metadata": {},
   "source": [
    "The equations to solve are:  \n",
    "$$\n",
    "He = arcsin((sin(L).sin(D)) + (cos(L).cos(D).cos(AHL)))\n",
    "$$\n",
    "\n",
    "$$\n",
    "Z = arctan\\left(\\dfrac{sin(AHL)}{(cos(D).tan(D))-(sin(L).cos(AHL))}\\right)\n",
    "$$\n",
    "The required precision implies the usage of logarithms."
   ]
  },
  {
   "cell_type": "code",
   "execution_count": 44,
   "id": "e964389b",
   "metadata": {},
   "outputs": [],
   "source": [
    "import java.math.*;\n",
    "import java.text.DecimalFormat;"
   ]
  },
  {
   "cell_type": "code",
   "execution_count": 45,
   "id": "51cea7f9",
   "metadata": {},
   "outputs": [],
   "source": [
    "static String decToSex(double v) {\n",
    "    String s = \"\";\n",
    "    double absVal = Math.abs(v);\n",
    "    double intValue = Math.floor(absVal);\n",
    "    double dec = absVal - intValue;\n",
    "    int i = (int) intValue;\n",
    "    dec *= 60D;\n",
    "    DecimalFormat df = new DecimalFormat(\"00.00\");\n",
    "    return Integer.toString(i) + '\\u00b0' + df.format(dec) + \"'\";\n",
    "}"
   ]
  },
  {
   "cell_type": "markdown",
   "id": "708fc7cb",
   "metadata": {},
   "source": [
    "We start with the following values:  \n",
    "\n",
    "Estimated position:  \n",
    "$L = N 37^o 46'$  \n",
    "$G = W 122^o 37'$\n",
    "\n",
    "From the almanacs:  \n",
    "$D = S 6^o 10.84'$  \n",
    "$AHG = 135^o 03.5'$  \n",
    "$AHL = 12^o 26.5'$"
   ]
  },
  {
   "cell_type": "markdown",
   "id": "060e752e",
   "metadata": {},
   "source": [
    "First we look for the Estimated Altitude He.\n",
    "$$\n",
    "He = arcsin((sin(L).sin(D)) + (cos(L).cos(D).cos(AHL)))\n",
    "$$\n",
    "We need to find the logarithms of:  \n",
    "$ sin(L) = sin(37^o46') $  \n",
    "$ sin(D) = sin(-6^o 10.84')$ rounded to $sin(-6^o 11')$  \n",
    "$ cos(L) = cos(37^o 46') $. \n",
    "$ cos(D) = cos(-6^o 10.84')$ rounded to $cos(-6^o 11')$  \n",
    "$ cos(AHL) = cos(12^o 26.5') $ rounded to $cos(12^o 26')$  "
   ]
  },
  {
   "cell_type": "code",
   "execution_count": 46,
   "id": "4e5dee71",
   "metadata": {},
   "outputs": [],
   "source": [
    "double lat = 37.0 + (46.0 / 60.0);\n",
    "double lng = -(122.0 + (37.0 / 60.0));\n",
    "double dec = -(6.0 + (11.0 / 60.0));\n",
    "double ahl = 12.0 + (26.0 / 60.0);"
   ]
  },
  {
   "cell_type": "markdown",
   "id": "5fb5072b",
   "metadata": {},
   "source": [
    "### He, Direct Calculation"
   ]
  },
  {
   "cell_type": "code",
   "execution_count": 47,
   "id": "45e34b47",
   "metadata": {},
   "outputs": [
    {
     "name": "stdout",
     "output_type": "stream",
     "text": [
      "He: 44°32.92', Bam!\n"
     ]
    },
    {
     "data": {
      "text/plain": [
       "java.io.PrintStream@5df49f3e"
      ]
     },
     "execution_count": 47,
     "metadata": {},
     "output_type": "execute_result"
    }
   ],
   "source": [
    "double directSinHe = (Math.sin(Math.toRadians(lat)) * Math.sin(Math.toRadians(dec))) + (Math.cos(Math.toRadians(lat)) * Math.cos(Math.toRadians(dec)) * Math.cos(Math.toRadians(ahl)));\n",
    "double heDirect = Math.asin(directSinHe);\n",
    "System.out.printf(\"He: %s, Bam!\\n\", decToSex(Math.toDegrees(heDirect)));"
   ]
  },
  {
   "cell_type": "markdown",
   "id": "09ac4e49",
   "metadata": {},
   "source": [
    "### He, With Logarithms"
   ]
  },
  {
   "cell_type": "markdown",
   "id": "f1a99771",
   "metadata": {},
   "source": [
    "Notice that we use the absolute values of the angles (for the logaritms to be happy)."
   ]
  },
  {
   "cell_type": "code",
   "execution_count": 48,
   "id": "f8408207",
   "metadata": {},
   "outputs": [],
   "source": [
    "double logSinLat = Math.log10(Math.sin(Math.toRadians(Math.abs(lat))));\n",
    "double logSinDec = Math.log10(Math.sin(Math.toRadians(Math.abs(dec))));\n",
    "double logCosLat = Math.log10(Math.cos(Math.toRadians(Math.abs(lat))));\n",
    "double logCosDec = Math.log10(Math.cos(Math.toRadians(Math.abs(dec))));\n",
    "double logCosAhl = Math.log10(Math.cos(Math.toRadians(Math.abs(ahl))));"
   ]
  },
  {
   "cell_type": "code",
   "execution_count": 49,
   "id": "6b838c86",
   "metadata": {
    "scrolled": true
   },
   "outputs": [
    {
     "name": "stdout",
     "output_type": "stream",
     "text": [
      "log(sin(L)) = -0.212931\n",
      "log(sin(D)) = -0.967743\n",
      "log(cos(L)) = -0.102092\n",
      "log(cos(D)) = -0.002534\n",
      "log(cos(AHL)) = -0.010307\n"
     ]
    },
    {
     "data": {
      "text/plain": [
       "java.io.PrintStream@5df49f3e"
      ]
     },
     "execution_count": 49,
     "metadata": {},
     "output_type": "execute_result"
    }
   ],
   "source": [
    "System.out.printf(\"log(sin(L)) = %f\\n\", logSinLat);\n",
    "System.out.printf(\"log(sin(D)) = %f\\n\", logSinDec);\n",
    "System.out.printf(\"log(cos(L)) = %f\\n\", logCosLat);\n",
    "System.out.printf(\"log(cos(D)) = %f\\n\", logCosDec);\n",
    "System.out.printf(\"log(cos(AHL)) = %f\\n\", logCosAhl);"
   ]
  },
  {
   "cell_type": "code",
   "execution_count": 50,
   "id": "7995ab8f",
   "metadata": {},
   "outputs": [
    {
     "name": "stdout",
     "output_type": "stream",
     "text": [
      "log(sin(L).sin(D)) = (-0.212931) + (-0.967743) = -1.180675\n"
     ]
    },
    {
     "data": {
      "text/plain": [
       "java.io.PrintStream@5df49f3e"
      ]
     },
     "execution_count": 50,
     "metadata": {},
     "output_type": "execute_result"
    }
   ],
   "source": [
    "double logSinLatSinDec = logSinLat + logSinDec;\n",
    "System.out.printf(\"log(sin(L).sin(D)) = (%f) + (%f) = %f\\n\", logSinLat, logSinDec, logSinLatSinDec);"
   ]
  },
  {
   "cell_type": "code",
   "execution_count": 51,
   "id": "f5a5f660",
   "metadata": {},
   "outputs": [
    {
     "name": "stdout",
     "output_type": "stream",
     "text": [
      "sin(L).sin(D) = 0.065967\n"
     ]
    },
    {
     "data": {
      "text/plain": [
       "java.io.PrintStream@5df49f3e"
      ]
     },
     "execution_count": 51,
     "metadata": {},
     "output_type": "execute_result"
    }
   ],
   "source": [
    "double sinLsinD = Math.pow(10, logSinLatSinDec);  // exponential base 10\n",
    "System.out.printf(\"sin(L).sin(D) = %f\\n\", sinLsinD);"
   ]
  },
  {
   "cell_type": "code",
   "execution_count": 52,
   "id": "d130c404",
   "metadata": {},
   "outputs": [
    {
     "name": "stdout",
     "output_type": "stream",
     "text": [
      "log(cos(L).cos(D).cos(AHL)) = (-0.102092) + (-0.002534) + (-0.010307) = -0.114933\n"
     ]
    },
    {
     "data": {
      "text/plain": [
       "java.io.PrintStream@5df49f3e"
      ]
     },
     "execution_count": 52,
     "metadata": {},
     "output_type": "execute_result"
    }
   ],
   "source": [
    "double logCosLCosDCosAHL = logCosLat + logCosDec + logCosAhl;\n",
    "System.out.printf(\"log(cos(L).cos(D).cos(AHL)) = (%f) + (%f) + (%f) = %f\\n\", logCosLat, logCosDec, logCosAhl, logCosLCosDCosAHL);\n"
   ]
  },
  {
   "cell_type": "code",
   "execution_count": 53,
   "id": "521966e3",
   "metadata": {},
   "outputs": [
    {
     "name": "stdout",
     "output_type": "stream",
     "text": [
      "cos(L).cos(D).cos(AHL) = 0.767481\n"
     ]
    },
    {
     "data": {
      "text/plain": [
       "java.io.PrintStream@5df49f3e"
      ]
     },
     "execution_count": 53,
     "metadata": {},
     "output_type": "execute_result"
    }
   ],
   "source": [
    "double cosLcosDcosAHL = Math.pow(10, logCosLCosDCosAHL); // exponential base 10\n",
    "System.out.printf(\"cos(L).cos(D).cos(AHL) = %f\\n\", cosLcosDcosAHL);"
   ]
  },
  {
   "cell_type": "code",
   "execution_count": 54,
   "id": "6fa203b0",
   "metadata": {},
   "outputs": [
    {
     "name": "stdout",
     "output_type": "stream",
     "text": [
      "sin(L).sin(D) + cos(L).cos(D).cos(AHL) = -0.701514\n",
      "He: 44°32.92'\n"
     ]
    },
    {
     "data": {
      "text/plain": [
       "java.io.PrintStream@5df49f3e"
      ]
     },
     "execution_count": 54,
     "metadata": {},
     "output_type": "execute_result"
    }
   ],
   "source": [
    "// this sign evaluation may need some love...\n",
    "int sign = (Math.abs(lat) == lat) ? 1 : -1;\n",
    "sign *= (Math.abs(dec) == dec) ? 1 : -1;\n",
    "sign *= (Math.abs(ahl) == ahl) ? 1 : -1;\n",
    "\n",
    "double theSum = sinLsinD + (sign * cosLcosDcosAHL);  // SIGN !!!\n",
    "System.out.printf(\"sin(L).sin(D) + cos(L).cos(D).cos(AHL) = %f\\n\", theSum);\n",
    "\n",
    "System.out.printf(\"He: %s\\n\", decToSex(Math.toDegrees(Math.asin(theSum))));"
   ]
  },
  {
   "cell_type": "markdown",
   "id": "ff2a89f0",
   "metadata": {},
   "source": [
    "### Z, direct"
   ]
  },
  {
   "cell_type": "code",
   "execution_count": 55,
   "id": "d862dc89",
   "metadata": {},
   "outputs": [
    {
     "name": "stdout",
     "output_type": "stream",
     "text": [
      "Z: 17°28.74'\n"
     ]
    },
    {
     "data": {
      "text/plain": [
       "java.io.PrintStream@5df49f3e"
      ]
     },
     "execution_count": 55,
     "metadata": {},
     "output_type": "execute_result"
    }
   ],
   "source": [
    "double tanZ = Math.sin(Math.toRadians(ahl)) / ((Math.cos(Math.toRadians(lat)) * Math.tan(Math.toRadians(dec))) - (Math.sin(Math.toRadians(lat)) * Math.cos(Math.toRadians(ahl))));\n",
    "double zDirect = Math.abs(Math.atan(tanZ));\n",
    "System.out.printf(\"Z: %s\\n\", decToSex(Math.toDegrees(zDirect)));"
   ]
  },
  {
   "cell_type": "markdown",
   "id": "948efb38",
   "metadata": {},
   "source": [
    "As L and D have different signs, we are behind the meridian time, Z goes from S to W:"
   ]
  },
  {
   "cell_type": "code",
   "execution_count": 56,
   "id": "e5b9ae25",
   "metadata": {},
   "outputs": [
    {
     "name": "stdout",
     "output_type": "stream",
     "text": [
      "Z becomes 197°28.74'\n"
     ]
    },
    {
     "data": {
      "text/plain": [
       "java.io.PrintStream@5df49f3e"
      ]
     },
     "execution_count": 56,
     "metadata": {},
     "output_type": "execute_result"
    }
   ],
   "source": [
    "System.out.printf(\"Z becomes %s\\n\", decToSex(180 + Math.toDegrees(zDirect)));"
   ]
  },
  {
   "cell_type": "markdown",
   "id": "0a1d3525",
   "metadata": {},
   "source": [
    "### Z, with logarithms"
   ]
  },
  {
   "cell_type": "markdown",
   "id": "d4b87b8a",
   "metadata": {},
   "source": [
    "We need extra values"
   ]
  },
  {
   "cell_type": "code",
   "execution_count": 57,
   "id": "9b5305c8",
   "metadata": {},
   "outputs": [
    {
     "name": "stdout",
     "output_type": "stream",
     "text": [
      "log(tan(D)) = -0.965209\n"
     ]
    },
    {
     "data": {
      "text/plain": [
       "java.io.PrintStream@5df49f3e"
      ]
     },
     "execution_count": 57,
     "metadata": {},
     "output_type": "execute_result"
    }
   ],
   "source": [
    "double logTanDec = Math.log10(Math.tan(Math.toRadians(Math.abs(dec))));\n",
    "System.out.printf(\"log(tan(D)) = %f\\n\", logTanDec);"
   ]
  },
  {
   "cell_type": "code",
   "execution_count": 58,
   "id": "5e9fcc0a",
   "metadata": {},
   "outputs": [
    {
     "name": "stdout",
     "output_type": "stream",
     "text": [
      "log(sin(AHL)) = -0.666949\n"
     ]
    },
    {
     "data": {
      "text/plain": [
       "java.io.PrintStream@5df49f3e"
      ]
     },
     "execution_count": 58,
     "metadata": {},
     "output_type": "execute_result"
    }
   ],
   "source": [
    "double logSinAHL = Math.log10(Math.sin(Math.toRadians(Math.abs(ahl))));\n",
    "System.out.printf(\"log(sin(AHL)) = %f\\n\", logSinAHL);"
   ]
  },
  {
   "cell_type": "code",
   "execution_count": 59,
   "id": "bdc17060",
   "metadata": {},
   "outputs": [
    {
     "name": "stdout",
     "output_type": "stream",
     "text": [
      "log(cos(L).tan(D)) = -1.067301\n"
     ]
    },
    {
     "data": {
      "text/plain": [
       "java.io.PrintStream@5df49f3e"
      ]
     },
     "execution_count": 59,
     "metadata": {},
     "output_type": "execute_result"
    }
   ],
   "source": [
    "double logCosLTanD = logCosLat + logTanDec;\n",
    "System.out.printf(\"log(cos(L).tan(D)) = %f\\n\", logCosLTanD);"
   ]
  },
  {
   "cell_type": "code",
   "execution_count": 60,
   "id": "769f1b2e",
   "metadata": {},
   "outputs": [
    {
     "name": "stdout",
     "output_type": "stream",
     "text": [
      "log(sin(L).cos(AHL)) = (-0.212931) + (-0.010307) = -0.223238\n"
     ]
    },
    {
     "data": {
      "text/plain": [
       "java.io.PrintStream@5df49f3e"
      ]
     },
     "execution_count": 60,
     "metadata": {},
     "output_type": "execute_result"
    }
   ],
   "source": [
    "double logSinLCosAHL = logSinLat + logCosAhl;\n",
    "System.out.printf(\"log(sin(L).cos(AHL)) = (%f) + (%f) = %f\\n\", logSinLat, logCosAhl, logSinLCosAHL);"
   ]
  },
  {
   "cell_type": "code",
   "execution_count": 61,
   "id": "b6e6fa85",
   "metadata": {},
   "outputs": [
    {
     "name": "stdout",
     "output_type": "stream",
     "text": [
      "Denominator: (-0.085644) - (0.598084) = -0.683728\n"
     ]
    },
    {
     "data": {
      "text/plain": [
       "java.io.PrintStream@5df49f3e"
      ]
     },
     "execution_count": 61,
     "metadata": {},
     "output_type": "execute_result"
    }
   ],
   "source": [
    "double cosLtanD = Math.pow(10, logCosLTanD);\n",
    "double sinLcosAHL = Math.pow(10, logSinLCosAHL);\n",
    "double denom = - cosLtanD - sinLcosAHL;  // -1 * cosLtanD, different signes.\n",
    "System.out.printf(\"Denominator: (%f) - (%f) = %f\\n\", -cosLtanD, sinLcosAHL, denom);"
   ]
  },
  {
   "cell_type": "code",
   "execution_count": 62,
   "id": "cf251bc5",
   "metadata": {},
   "outputs": [
    {
     "name": "stdout",
     "output_type": "stream",
     "text": [
      "Z: 17°28.74'\n"
     ]
    },
    {
     "data": {
      "text/plain": [
       "java.io.PrintStream@5df49f3e"
      ]
     },
     "execution_count": 62,
     "metadata": {},
     "output_type": "execute_result"
    }
   ],
   "source": [
    "double tanZ = Math.pow(10, logSinAHL) / denom;\n",
    "System.out.printf(\"Z: %s\\n\", decToSex(Math.toDegrees(Math.atan(Math.abs(tanZ)))));"
   ]
  },
  {
   "cell_type": "markdown",
   "id": "fe4065c0",
   "metadata": {},
   "source": [
    "And like before:"
   ]
  },
  {
   "cell_type": "code",
   "execution_count": 63,
   "id": "3521b428",
   "metadata": {},
   "outputs": [
    {
     "name": "stdout",
     "output_type": "stream",
     "text": [
      "Z becomes 197°28.74'\n"
     ]
    },
    {
     "data": {
      "text/plain": [
       "java.io.PrintStream@5df49f3e"
      ]
     },
     "execution_count": 63,
     "metadata": {},
     "output_type": "execute_result"
    }
   ],
   "source": [
    "System.out.printf(\"Z becomes %s\\n\", decToSex(180 + Math.toDegrees(Math.atan(Math.abs(tanZ)))));"
   ]
  },
  {
   "cell_type": "markdown",
   "id": "da731858",
   "metadata": {},
   "source": [
    "---\n",
    "This concludes the Java demo."
   ]
  }
 ],
 "metadata": {
  "kernelspec": {
   "display_name": "Java",
   "language": "java",
   "name": "java"
  },
  "language_info": {
   "codemirror_mode": "java",
   "file_extension": ".jshell",
   "mimetype": "text/x-java-source",
   "name": "Java",
   "pygments_lexer": "java",
   "version": "11.0.8+10-LTS"
  }
 },
 "nbformat": 4,
 "nbformat_minor": 5
}
