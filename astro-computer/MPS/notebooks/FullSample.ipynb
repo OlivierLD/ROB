{
 "cells": [
  {
   "cell_type": "markdown",
   "id": "b4c5a305-0706-4862-bb7e-a33f6af6beae",
   "metadata": {},
   "source": [
    "# Full Resolution - 2 cones\n",
    "\n",
    "This could also illustrate the problem triggered by the 2 intersections of the circles.  \n",
    "This is supposed to be managed by the method `MPSToolBox.resolve2Cones`, used below.\n"
   ]
  },
  {
   "cell_type": "code",
   "execution_count": 46,
   "id": "11a0bcee-dae4-46bc-bb54-b3e507aeda5f",
   "metadata": {},
   "outputs": [],
   "source": [
    "%classpath add jar \"../build/libs/MPS-1.0-all.jar\""
   ]
  },
  {
   "cell_type": "markdown",
   "id": "1cc4508b-3f56-4a7e-9332-026c005c2cbc",
   "metadata": {},
   "source": [
    "We generate the almanac for:\n",
    "- 2025-09-26T03:15:00 UTC\n",
    "- Saturn\n",
    "- Jupiter\n",
    "- Rigel\n",
    "- Aldebaran\n",
    "\n",
    "Sun and Moon almanacs will also be generated, but not used.  \n",
    "And we want to get GHA, Decl, and Observed Altitude, from N 47º40.67' / W 3º8.14'."
   ]
  },
  {
   "cell_type": "code",
   "execution_count": 47,
   "id": "69ca9354-6fd1-457c-b149-90078f3ebfb5",
   "metadata": {},
   "outputs": [
    {
     "name": "stdout",
     "output_type": "stream",
     "text": [
      "Calculation launched for 2025-Sep-26 03:15:00 UTC\n"
     ]
    }
   ],
   "source": [
    "import calc.calculation.AstroComputerV2;\n",
    "\n",
    "import java.text.SimpleDateFormat;\n",
    "import java.util.Calendar;\n",
    "import java.util.TimeZone;\n",
    "\n",
    "import calc.CelestialDeadReckoning;\n",
    "import calc.GeoPoint;\n",
    "import calc.GeomUtil;\n",
    "import mps.MPSToolBox;\n",
    "\n",
    "private final static SimpleDateFormat SDF_UTC = new SimpleDateFormat(\"yyyy-MMM-dd HH:mm:ss 'UTC'\");\n",
    "// static {\n",
    "    SDF_UTC.setTimeZone(TimeZone.getTimeZone(\"Etc/UTC\"));\n",
    "//}\n",
    "private final static SimpleDateFormat DURATION_FMT = new SimpleDateFormat(\"yyyy-MM-dd'T'HH:mm:ss\");\n",
    "// static {\n",
    "    DURATION_FMT.setTimeZone(TimeZone.getTimeZone(\"Etc/UTC\"));\n",
    "// }\n",
    "\n",
    "// Point of reference, user's position\n",
    "double userLatitude = 47.677667;\n",
    "double userLongitude = -3.135667;\n",
    "\n",
    "AstroComputerV2 ac = new AstroComputerV2();\n",
    "\n",
    "/*\n",
    " * 26-Sep-2025 03:15:00 UTC\n",
    " */\n",
    "Calendar date = Calendar.getInstance(TimeZone.getTimeZone(\"Etc/UTC\")); // Now\n",
    "date.set(Calendar.YEAR, 2025);\n",
    "date.set(Calendar.MONTH, Calendar.SEPTEMBER);\n",
    "date.set(Calendar.DAY_OF_MONTH, 26);\n",
    "date.set(Calendar.HOUR_OF_DAY, 3); // and not just HOUR !!!!\n",
    "date.set(Calendar.MINUTE, 15);\n",
    "date.set(Calendar.SECOND, 0);\n",
    "\n",
    "System.out.printf(\"Calculation launched for %s\\n\", SDF_UTC.format(date.getTime()));\n",
    "\n",
    "ac.calculate(date.get(Calendar.YEAR),\n",
    "        date.get(Calendar.MONTH) + 1,\n",
    "        date.get(Calendar.DAY_OF_MONTH),\n",
    "        date.get(Calendar.HOUR_OF_DAY), // and not just HOUR !!!!\n",
    "        date.get(Calendar.MINUTE),\n",
    "        date.get(Calendar.SECOND),\n",
    "        true);\n",
    "\n",
    "double deltaT = ac.getDeltaT(); // Unused for now\n",
    "\n",
    "final double sunGHA = ac.getSunGHA();\n",
    "final double sunDecl = ac.getSunDecl();\n",
    "\n",
    "final double moonGHA = ac.getMoonGHA();\n",
    "final double moonDecl = ac.getMoonDecl();\n",
    "\n",
    "final double saturnGHA = ac.getSaturnGHA();\n",
    "final double saturnDecl = ac.getSaturnDecl();\n",
    "\n",
    "final double jupiterGHA = ac.getJupiterGHA();\n",
    "final double jupiterDecl = ac.getJupiterDecl();\n",
    "\n",
    "// Star rigel = Star.getStar(\"Rigel\"); // Case sensitive name\n",
    "ac.starPos(\"Rigel\");\n",
    "final double rigelSHA = ac.getStarSHA(\"Rigel\");\n",
    "final double rigelGHA = ac.getStarGHA(\"Rigel\");\n",
    "final double rigelDecl = ac.getStarDec(\"Rigel\");\n",
    "\n",
    "ac.starPos(\"Aldebaran\");\n",
    "final double aldebaranSHA = ac.getStarSHA(\"Aldebaran\");\n",
    "final double aldebaranGHA = ac.getStarGHA(\"Aldebaran\");\n",
    "final double aldebaranDecl = ac.getStarDec(\"Aldebaran\");\n",
    "\n",
    "CelestialDeadReckoning dr = MPSToolBox.calculateDR(sunGHA, sunDecl, userLatitude, userLongitude).calculate(); // All angles in degrees\n",
    "double he = dr.getHe();\n",
    "// double z = dr.getZ();\n",
    "double sunObsAlt = he; // Shoud be read (and corrected) from the sextant\n",
    "\n",
    "dr = MPSToolBox.calculateDR(moonGHA, moonDecl, userLatitude, userLongitude).calculate(); // All angles in degrees\n",
    "he = dr.getHe();\n",
    "// double z = dr.getZ();\n",
    "double moonObsAlt = he; // Shoud be read (and corrected) from the sextant\n",
    "\n",
    "dr = MPSToolBox.calculateDR(saturnGHA, saturnDecl, userLatitude, userLongitude).calculate(); // All angles in degrees\n",
    "he = dr.getHe();\n",
    "// double z = dr.getZ();\n",
    "double saturnObsAlt = he; // Shoud be read (and corrected) from the sextant\n",
    "\n",
    "dr = MPSToolBox.calculateDR(jupiterGHA, jupiterDecl, userLatitude, userLongitude).calculate(); // All angles in degrees\n",
    "he = dr.getHe();\n",
    "// double z = dr.getZ();\n",
    "double jupiterObsAlt = he; // Shoud be read (and corrected) from the sextant\n",
    "\n",
    "dr = MPSToolBox.calculateDR(rigelGHA, rigelDecl, userLatitude, userLongitude).calculate(); // All angles in degrees\n",
    "he = dr.getHe();\n",
    "// double z = dr.getZ();\n",
    "double rigelObsAlt = he; // Shoud be read (and corrected) from the sextant\n",
    "\n",
    "dr = MPSToolBox.calculateDR(aldebaranGHA, aldebaranDecl, userLatitude, userLongitude).calculate(); // All angles in degrees\n",
    "he = dr.getHe();\n",
    "// double z = dr.getZ();\n",
    "double aldebaranObsAlt = he; // Shoud be read (and corrected) from the sextant\n",
    "\n"
   ]
  },
  {
   "cell_type": "code",
   "execution_count": 48,
   "id": "a2de65be-6de3-4c48-9dbb-a942e9fb1c23",
   "metadata": {},
   "outputs": [
    {
     "name": "stdout",
     "output_type": "stream",
     "text": [
      "Sun      :\t ObsAlt: -27º59.56',\t GHA:  230º54.36',\t Decl: 1º18.81'S\n",
      "Moon     :\t ObsAlt: -64º38.88',\t GHA:  186º45.86',\t Decl: 22º29.58'S\n",
      "----------------------------------------------------\n",
      "Saturn   :\t ObsAlt:  22º16.56',\t GHA:  54º39.20',\t Decl: 3º02.88'S\n",
      "Jupiter  :\t ObsAlt:  33º59.69',\t GHA:  300º20.17',\t Decl: 21º40.69'N\n",
      "Rigel    :\t ObsAlt:  28º51.39',\t GHA:  334º59.47',\t Decl: 8º10.09'S\n",
      "Aldebaran:\t ObsAlt:  55º20.72',\t GHA:  344º35.06',\t Decl: 16º33.74'N\n"
     ]
    },
    {
     "data": {
      "text/plain": [
       "java.io.PrintStream@54e298fe"
      ]
     },
     "execution_count": 48,
     "metadata": {},
     "output_type": "execute_result"
    }
   ],
   "source": [
    "System.out.printf(\"Sun      :\\t ObsAlt: %s,\\t GHA: %s,\\t Decl: %s\\n\", \n",
    "                  GeomUtil.decToSex(sunObsAlt, GeomUtil.SHELL, GeomUtil.NONE),\n",
    "                  GeomUtil.decToSex(sunGHA, GeomUtil.SHELL, GeomUtil.NONE),\n",
    "                  GeomUtil.decToSex(sunDecl, GeomUtil.SHELL, GeomUtil.NS));\n",
    "System.out.printf(\"Moon     :\\t ObsAlt: %s,\\t GHA: %s,\\t Decl: %s\\n\", \n",
    "                  GeomUtil.decToSex(moonObsAlt, GeomUtil.SHELL, GeomUtil.NONE),\n",
    "                  GeomUtil.decToSex(moonGHA, GeomUtil.SHELL, GeomUtil.NONE),\n",
    "                  GeomUtil.decToSex(moonDecl, GeomUtil.SHELL, GeomUtil.NS));\n",
    "System.out.println(\"----------------------------------------------------\");\n",
    "System.out.printf(\"Saturn   :\\t ObsAlt: %s,\\t GHA: %s,\\t Decl: %s\\n\", \n",
    "                  GeomUtil.decToSex(saturnObsAlt, GeomUtil.SHELL, GeomUtil.NONE),\n",
    "                  GeomUtil.decToSex(saturnGHA, GeomUtil.SHELL, GeomUtil.NONE),\n",
    "                  GeomUtil.decToSex(saturnDecl, GeomUtil.SHELL, GeomUtil.NS));\n",
    "System.out.printf(\"Jupiter  :\\t ObsAlt: %s,\\t GHA: %s,\\t Decl: %s\\n\", \n",
    "                  GeomUtil.decToSex(jupiterObsAlt, GeomUtil.SHELL, GeomUtil.NONE),\n",
    "                  GeomUtil.decToSex(jupiterGHA, GeomUtil.SHELL, GeomUtil.NONE),\n",
    "                  GeomUtil.decToSex(jupiterDecl, GeomUtil.SHELL, GeomUtil.NS));\n",
    "System.out.printf(\"Rigel    :\\t ObsAlt: %s,\\t GHA: %s,\\t Decl: %s\\n\", \n",
    "                  GeomUtil.decToSex(rigelObsAlt, GeomUtil.SHELL, GeomUtil.NONE),\n",
    "                  GeomUtil.decToSex(rigelGHA, GeomUtil.SHELL, GeomUtil.NONE),\n",
    "                  GeomUtil.decToSex(rigelDecl, GeomUtil.SHELL, GeomUtil.NS));\n",
    "System.out.printf(\"Aldebaran:\\t ObsAlt: %s,\\t GHA: %s,\\t Decl: %s\\n\", \n",
    "                  GeomUtil.decToSex(aldebaranObsAlt, GeomUtil.SHELL, GeomUtil.NONE),\n",
    "                  GeomUtil.decToSex(aldebaranGHA, GeomUtil.SHELL, GeomUtil.NONE),\n",
    "                  GeomUtil.decToSex(aldebaranDecl, GeomUtil.SHELL, GeomUtil.NS));"
   ]
  },
  {
   "cell_type": "markdown",
   "id": "f9c9e574-67df-4a0f-8aa0-987c6434f956",
   "metadata": {},
   "source": [
    "And now, we have all the almanac data, let's proceed!"
   ]
  },
  {
   "cell_type": "code",
   "execution_count": 49,
   "id": "a988a9b8-4aa1-4a38-a8d0-928e8407244f",
   "metadata": {},
   "outputs": [],
   "source": [
    "List<MPSToolBox.ConesIntersection> conesIntersectionList = new ArrayList<>();"
   ]
  },
  {
   "cell_type": "code",
   "execution_count": 50,
   "id": "aabc6e44-b82c-4afc-86fe-c9aad26ca691",
   "metadata": {},
   "outputs": [],
   "source": [
    "boolean verbose = false;"
   ]
  },
  {
   "cell_type": "markdown",
   "id": "fe270788-87e4-49de-bb64-b73eb1e3b4ab",
   "metadata": {},
   "source": [
    "## Use Case 1 - Saturn & Jupiter"
   ]
  },
  {
   "cell_type": "code",
   "execution_count": 51,
   "id": "e5ee8cad-0474-4c48-b6ad-f46d98a5e9ae",
   "metadata": {},
   "outputs": [],
   "source": [
    "double altOne = saturnObsAlt;\n",
    "double ghaOne = saturnGHA;\n",
    "double declOne = saturnDecl;\n",
    "Date dateOne = date.getTime();\n",
    "\n",
    "double altTwo = jupiterObsAlt;\n",
    "double ghaTwo = jupiterGHA;\n",
    "double declTwo = jupiterDecl;\n",
    "Date dateTwo = date.getTime();\n",
    "\n",
    "int nbIter = 4;\n",
    "boolean reverse = false;"
   ]
  },
  {
   "cell_type": "code",
   "execution_count": 52,
   "id": "e10d1f73-ce0f-4063-ac14-cd883c78ba82",
   "metadata": {},
   "outputs": [
    {
     "name": "stdout",
     "output_type": "stream",
     "text": [
      "Saturn & Jupiter\n",
      "After 4 iterations:\n",
      "1st position between 47º40.66'N / 3º08.14'W and 47º40.66'N / 3º08.14'W, dist 0.00 nm.\n",
      "2nd position between 10º54.28'S / 13º14.41'E and 10º54.28'S / 13º14.41'E, dist 0.00 nm.\n"
     ]
    }
   ],
   "source": [
    "if (verbose) {\n",
    "    System.out.println(\"------------------------------------------------\");\n",
    "    System.out.printf(\"Starting resolve process with:\\n\" +\n",
    "                    \"Time1: %s, Alt1: %s, GHA1: %s, Decl1: %s\\n\" +\n",
    "                    \"Time2: %s, Alt2: %s, GHA2: %s, Decl2: %s\\n\",\n",
    "            DURATION_FMT.format(dateOne),\n",
    "            GeomUtil.decToSex(altOne, GeomUtil.SHELL, GeomUtil.NONE),\n",
    "            GeomUtil.decToSex(ghaOne, GeomUtil.SHELL, GeomUtil.NONE),\n",
    "            GeomUtil.decToSex(declOne, GeomUtil.SHELL, GeomUtil.NS),\n",
    "            DURATION_FMT.format(dateTwo),\n",
    "            GeomUtil.decToSex(altTwo, GeomUtil.SHELL, GeomUtil.NONE),\n",
    "            GeomUtil.decToSex(ghaTwo, GeomUtil.SHELL, GeomUtil.NONE),\n",
    "            GeomUtil.decToSex(declTwo, GeomUtil.SHELL, GeomUtil.NS));\n",
    "    System.out.println(\"------------------------------------------------\");\n",
    "}\n",
    "\n",
    "// Now, find the intersection of the two cones...\n",
    "List<GeoPoint> closests = MPSToolBox.resolve2Cones(dateOne, altOne, ghaOne, declOne,\n",
    "                                                   dateTwo, altTwo, ghaTwo, declTwo,\n",
    "                                                   nbIter, reverse, verbose);\n",
    "\n",
    "if (closests != null) {\n",
    "    final double d1 = GeomUtil.haversineNm(closests.get(0), closests.get(1));\n",
    "    final double d2 = GeomUtil.haversineNm(closests.get(2), closests.get(3));\n",
    "    System.out.println(\"Saturn & Jupiter\");\n",
    "    System.out.printf(\"After %d iterations:\\n\", nbIter);\n",
    "    System.out.printf(\"1st position between %s and %s, dist %.02f nm.\\n\", closests.get(0), closests.get(1), d1);\n",
    "    System.out.printf(\"2nd position between %s and %s, dist %.02f nm.\\n\", closests.get(2), closests.get(2), d2);\n",
    "    // For later\n",
    "    conesIntersectionList.add(new MPSToolBox.ConesIntersection(\"Saturn\", \"Jupiter\",\n",
    "                                                               closests.get(0), closests.get(1), \n",
    "                                                               closests.get(2), closests.get(3)));\n",
    "} else {\n",
    "    System.out.println(\"Oops ! Not found...\");\n",
    "}\n"
   ]
  },
  {
   "cell_type": "markdown",
   "id": "892f673b-8d1b-4354-9269-911c456ab8fe",
   "metadata": {},
   "source": [
    "## Use Case 2 - Saturn & Rigel"
   ]
  },
  {
   "cell_type": "code",
   "execution_count": 53,
   "id": "2884b225-f38f-4e61-a311-6f3d755f1f2d",
   "metadata": {},
   "outputs": [],
   "source": [
    "altOne = saturnObsAlt;\n",
    "ghaOne = saturnGHA;\n",
    "declOne = saturnDecl;\n",
    "// Date dateOne = date.getTime();\n",
    "\n",
    "altTwo = rigelObsAlt;\n",
    "ghaTwo = rigelGHA;\n",
    "declTwo = rigelDecl;\n",
    "// Date dateTwo = date.getTime();\n"
   ]
  },
  {
   "cell_type": "code",
   "execution_count": 54,
   "id": "bc03658c-c6d1-4b2c-9594-93d159ee69ee",
   "metadata": {},
   "outputs": [
    {
     "name": "stdout",
     "output_type": "stream",
     "text": [
      "Saturn & Rigel\n",
      "After 4 iterations:\n",
      "1st position between 47º40.66'N / 3º08.14'W and 47º40.66'N / 3º08.14'W, dist 0.00 nm.\n",
      "2nd position between 63º12.51'S / 12º06.38'W and 63º12.51'S / 12º06.38'W, dist 0.00 nm.\n"
     ]
    }
   ],
   "source": [
    "if (verbose) {\n",
    "    System.out.println(\"------------------------------------------------\");\n",
    "    System.out.printf(\"Starting resolve process with:\\n\" +\n",
    "                    \"Time1: %s, Alt1: %s, GHA1: %s, Decl1: %s\\n\" +\n",
    "                    \"Time2: %s, Alt2: %s, GHA2: %s, Decl2: %s\\n\",\n",
    "            DURATION_FMT.format(dateOne),\n",
    "            GeomUtil.decToSex(altOne, GeomUtil.SHELL, GeomUtil.NONE),\n",
    "            GeomUtil.decToSex(ghaOne, GeomUtil.SHELL, GeomUtil.NONE),\n",
    "            GeomUtil.decToSex(declOne, GeomUtil.SHELL, GeomUtil.NS),\n",
    "            DURATION_FMT.format(dateTwo),\n",
    "            GeomUtil.decToSex(altTwo, GeomUtil.SHELL, GeomUtil.NONE),\n",
    "            GeomUtil.decToSex(ghaTwo, GeomUtil.SHELL, GeomUtil.NONE),\n",
    "            GeomUtil.decToSex(declTwo, GeomUtil.SHELL, GeomUtil.NS));\n",
    "    System.out.println(\"------------------------------------------------\");\n",
    "}\n",
    "\n",
    "// Now, find the intersection of the two cones...\n",
    "closests = MPSToolBox.resolve2Cones(dateOne, altOne, ghaOne, declOne,\n",
    "                                    dateTwo, altTwo, ghaTwo, declTwo,\n",
    "                                    nbIter, reverse, verbose);\n",
    "\n",
    "if (closests != null) {\n",
    "    final double d1 = GeomUtil.haversineNm(closests.get(0), closests.get(1));\n",
    "    final double d2 = GeomUtil.haversineNm(closests.get(2), closests.get(3));\n",
    "    System.out.println(\"Saturn & Rigel\");\n",
    "    System.out.printf(\"After %d iterations:\\n\", nbIter);\n",
    "    System.out.printf(\"1st position between %s and %s, dist %.02f nm.\\n\", closests.get(0), closests.get(1), d1);\n",
    "    System.out.printf(\"2nd position between %s and %s, dist %.02f nm.\\n\", closests.get(2), closests.get(2), d2);\n",
    "    // For later\n",
    "    conesIntersectionList.add(new MPSToolBox.ConesIntersection(\"Saturn\", \"Rigel\",\n",
    "                                                               closests.get(0), closests.get(1), \n",
    "                                                               closests.get(2), closests.get(3)));\n",
    "} else {\n",
    "    System.out.println(\"Oops ! Not found...\");\n",
    "}\n"
   ]
  },
  {
   "cell_type": "markdown",
   "id": "c41e5fe3-b91b-4f59-82b0-df7d2b883ca9",
   "metadata": {},
   "source": [
    "## Use Case 3, Rigel & Saturn"
   ]
  },
  {
   "cell_type": "code",
   "execution_count": 55,
   "id": "db7e865b-b154-4771-881e-1e3a62fbe25b",
   "metadata": {},
   "outputs": [],
   "source": [
    "altOne = rigelObsAlt;\n",
    "ghaOne = rigelGHA;\n",
    "declOne = rigelDecl;\n",
    "// Date dateOne = date.getTime();\n",
    "\n",
    "altTwo = saturnObsAlt;\n",
    "ghaTwo = saturnGHA;\n",
    "declTwo = saturnDecl;\n",
    "// Date dateTwo = date.getTime();\n"
   ]
  },
  {
   "cell_type": "code",
   "execution_count": 56,
   "id": "85d2cee8-81dc-4ad8-bf15-166b192550ec",
   "metadata": {},
   "outputs": [
    {
     "name": "stdout",
     "output_type": "stream",
     "text": [
      "Rigel & Saturn\n",
      "After 4 iterations:\n",
      "1st position between 63º12.51'S / 12º06.37'W and 63º12.51'S / 12º06.38'W, dist 0.00 nm.\n",
      "2nd position between 47º40.66'N / 3º08.14'W and 47º40.66'N / 3º08.14'W, dist 0.00 nm.\n"
     ]
    }
   ],
   "source": [
    "if (verbose) {\n",
    "    System.out.println(\"------------------------------------------------\");\n",
    "    System.out.printf(\"Starting resolve process with:\\n\" +\n",
    "                    \"Time1: %s, Alt1: %s, GHA1: %s, Decl1: %s\\n\" +\n",
    "                    \"Time2: %s, Alt2: %s, GHA2: %s, Decl2: %s\\n\",\n",
    "            DURATION_FMT.format(dateOne),\n",
    "            GeomUtil.decToSex(altOne, GeomUtil.SHELL, GeomUtil.NONE),\n",
    "            GeomUtil.decToSex(ghaOne, GeomUtil.SHELL, GeomUtil.NONE),\n",
    "            GeomUtil.decToSex(declOne, GeomUtil.SHELL, GeomUtil.NS),\n",
    "            DURATION_FMT.format(dateTwo),\n",
    "            GeomUtil.decToSex(altTwo, GeomUtil.SHELL, GeomUtil.NONE),\n",
    "            GeomUtil.decToSex(ghaTwo, GeomUtil.SHELL, GeomUtil.NONE),\n",
    "            GeomUtil.decToSex(declTwo, GeomUtil.SHELL, GeomUtil.NS));\n",
    "    System.out.println(\"------------------------------------------------\");\n",
    "}\n",
    "\n",
    "// Now, find the intersection of the two cones...\n",
    "closests = MPSToolBox.resolve2Cones(dateOne, altOne, ghaOne, declOne,\n",
    "                                    dateTwo, altTwo, ghaTwo, declTwo,\n",
    "                                    nbIter, reverse, verbose);\n",
    "\n",
    "if (closests != null) {\n",
    "    final double d1 = GeomUtil.haversineNm(closests.get(0), closests.get(1));\n",
    "    final double d2 = GeomUtil.haversineNm(closests.get(2), closests.get(3));\n",
    "    System.out.println(\"Rigel & Saturn\");\n",
    "    System.out.printf(\"After %d iterations:\\n\", nbIter);\n",
    "    System.out.printf(\"1st position between %s and %s, dist %.02f nm.\\n\", closests.get(0), closests.get(1), d1);\n",
    "    System.out.printf(\"2nd position between %s and %s, dist %.02f nm.\\n\", closests.get(2), closests.get(2), d2);\n",
    "    // For later\n",
    "    conesIntersectionList.add(new MPSToolBox.ConesIntersection(\"Rigel\", \"Saturn\",\n",
    "                                                               closests.get(0), closests.get(1), \n",
    "                                                               closests.get(2), closests.get(3)));\n",
    "} else {\n",
    "    System.out.println(\"Oops ! Not found...\");\n",
    "}\n"
   ]
  },
  {
   "cell_type": "markdown",
   "id": "5e93b26a-59e2-4f8f-bfa7-3310a21512e7",
   "metadata": {},
   "source": [
    "## Use Case 4, Rigel & Jupiter"
   ]
  },
  {
   "cell_type": "code",
   "execution_count": 57,
   "id": "4f5c649e-3918-4e1c-9ea3-2b7fc019fd4c",
   "metadata": {},
   "outputs": [],
   "source": [
    "altOne = rigelObsAlt;\n",
    "ghaOne = rigelGHA;\n",
    "declOne = rigelDecl;\n",
    "// Date dateOne = date.getTime();\n",
    "\n",
    "altTwo = jupiterObsAlt;\n",
    "ghaTwo = jupiterGHA;\n",
    "declTwo = jupiterDecl;\n",
    "// Date dateTwo = date.getTime();\n"
   ]
  },
  {
   "cell_type": "code",
   "execution_count": 58,
   "id": "5abd3bb9-b4f6-4847-8be2-f424f8de6069",
   "metadata": {},
   "outputs": [
    {
     "name": "stdout",
     "output_type": "stream",
     "text": [
      "Rigel & Jupiter\n",
      "After 4 iterations:\n",
      "1st position between 27º54.85'S / 86º36.17'E and 27º54.84'S / 86º36.17'E, dist 0.00 nm.\n",
      "2nd position between 47º40.66'N / 3º08.14'W and 47º40.66'N / 3º08.14'W, dist 0.00 nm.\n"
     ]
    }
   ],
   "source": [
    "if (verbose) {\n",
    "    System.out.println(\"------------------------------------------------\");\n",
    "    System.out.printf(\"Starting resolve process with:\\n\" +\n",
    "                    \"Time1: %s, Alt1: %s, GHA1: %s, Decl1: %s\\n\" +\n",
    "                    \"Time2: %s, Alt2: %s, GHA2: %s, Decl2: %s\\n\",\n",
    "            DURATION_FMT.format(dateOne),\n",
    "            GeomUtil.decToSex(altOne, GeomUtil.SHELL, GeomUtil.NONE),\n",
    "            GeomUtil.decToSex(ghaOne, GeomUtil.SHELL, GeomUtil.NONE),\n",
    "            GeomUtil.decToSex(declOne, GeomUtil.SHELL, GeomUtil.NS),\n",
    "            DURATION_FMT.format(dateTwo),\n",
    "            GeomUtil.decToSex(altTwo, GeomUtil.SHELL, GeomUtil.NONE),\n",
    "            GeomUtil.decToSex(ghaTwo, GeomUtil.SHELL, GeomUtil.NONE),\n",
    "            GeomUtil.decToSex(declTwo, GeomUtil.SHELL, GeomUtil.NS));\n",
    "    System.out.println(\"------------------------------------------------\");\n",
    "}\n",
    "\n",
    "// Now, find the intersection of the two cones...\n",
    "closests = MPSToolBox.resolve2Cones(dateOne, altOne, ghaOne, declOne,\n",
    "                                    dateTwo, altTwo, ghaTwo, declTwo,\n",
    "                                    nbIter, reverse, verbose);\n",
    "\n",
    "if (closests != null) {\n",
    "    final double d1 = GeomUtil.haversineNm(closests.get(0), closests.get(1));\n",
    "    final double d2 = GeomUtil.haversineNm(closests.get(2), closests.get(3));\n",
    "    System.out.println(\"Rigel & Jupiter\");\n",
    "    System.out.printf(\"After %d iterations:\\n\", nbIter);\n",
    "    System.out.printf(\"1st position between %s and %s, dist %.02f nm.\\n\", closests.get(0), closests.get(1), d1);\n",
    "    System.out.printf(\"2nd position between %s and %s, dist %.02f nm.\\n\", closests.get(2), closests.get(2), d2);\n",
    "    // For later\n",
    "    conesIntersectionList.add(new MPSToolBox.ConesIntersection(\"Rigel\", \"Jupiter\",\n",
    "                                                               closests.get(0), closests.get(1), \n",
    "                                                               closests.get(2), closests.get(3)));\n",
    "} else {\n",
    "    System.out.println(\"Oops ! Not found...\");\n",
    "}\n"
   ]
  },
  {
   "cell_type": "markdown",
   "id": "1fac1696-cd22-45d2-8214-ae320f04fd4b",
   "metadata": {},
   "source": [
    "## Use Case 5, Rigel & Aldebaran"
   ]
  },
  {
   "cell_type": "code",
   "execution_count": 59,
   "id": "14c4ee93-679d-4d00-88a8-f88e83493adf",
   "metadata": {},
   "outputs": [],
   "source": [
    "altOne = rigelObsAlt;\n",
    "ghaOne = rigelGHA;\n",
    "declOne = rigelDecl;\n",
    "// Date dateOne = date.getTime();\n",
    "\n",
    "altTwo = aldebaranObsAlt;\n",
    "ghaTwo = aldebaranGHA;\n",
    "declTwo = aldebaranDecl;\n",
    "// Date dateTwo = date.getTime();\n",
    "\n",
    "nbIter = 5;"
   ]
  },
  {
   "cell_type": "code",
   "execution_count": 60,
   "id": "1d6a8c87-cb92-4fc3-9880-048a7acb28e7",
   "metadata": {},
   "outputs": [
    {
     "name": "stdout",
     "output_type": "stream",
     "text": [
      "Rigel & Aldebaran\n",
      "After 5 iterations:\n",
      "1st position between 47º35.55'N / 3º20.13'W and 47º35.51'N / 3º20.09'W, dist 0.05 nm.\n",
      "2nd position between 48º03.44'N / 2º13.10'W and 48º03.44'N / 2º13.10'W, dist 0.08 nm.\n"
     ]
    }
   ],
   "source": [
    "if (verbose) {\n",
    "    System.out.println(\"------------------------------------------------\");\n",
    "    System.out.printf(\"Starting resolve process with:\\n\" +\n",
    "                    \"Time1: %s, Alt1: %s, GHA1: %s, Decl1: %s\\n\" +\n",
    "                    \"Time2: %s, Alt2: %s, GHA2: %s, Decl2: %s\\n\",\n",
    "            DURATION_FMT.format(dateOne),\n",
    "            GeomUtil.decToSex(altOne, GeomUtil.SHELL, GeomUtil.NONE),\n",
    "            GeomUtil.decToSex(ghaOne, GeomUtil.SHELL, GeomUtil.NONE),\n",
    "            GeomUtil.decToSex(declOne, GeomUtil.SHELL, GeomUtil.NS),\n",
    "            DURATION_FMT.format(dateTwo),\n",
    "            GeomUtil.decToSex(altTwo, GeomUtil.SHELL, GeomUtil.NONE),\n",
    "            GeomUtil.decToSex(ghaTwo, GeomUtil.SHELL, GeomUtil.NONE),\n",
    "            GeomUtil.decToSex(declTwo, GeomUtil.SHELL, GeomUtil.NS));\n",
    "    System.out.println(\"------------------------------------------------\");\n",
    "}\n",
    "\n",
    "// Now, find the intersection of the two cones...\n",
    "closests = MPSToolBox.resolve2Cones(dateOne, altOne, ghaOne, declOne,\n",
    "                                    dateTwo, altTwo, ghaTwo, declTwo,\n",
    "                                    nbIter, reverse, verbose);\n",
    "\n",
    "if (closests != null) {\n",
    "    final double d1 = GeomUtil.haversineNm(closests.get(0), closests.get(1));\n",
    "    final double d2 = GeomUtil.haversineNm(closests.get(2), closests.get(3));\n",
    "    System.out.println(\"Rigel & Aldebaran\");\n",
    "    System.out.printf(\"After %d iterations:\\n\", nbIter);\n",
    "    System.out.printf(\"1st position between %s and %s, dist %.02f nm.\\n\", closests.get(0), closests.get(1), d1);\n",
    "    System.out.printf(\"2nd position between %s and %s, dist %.02f nm.\\n\", closests.get(2), closests.get(2), d2);\n",
    "    // For later\n",
    "    conesIntersectionList.add(new MPSToolBox.ConesIntersection(\"Rigel\", \"Aldebaran\",\n",
    "                                                               closests.get(0), closests.get(1), \n",
    "                                                               closests.get(2), closests.get(3)));\n",
    "} else {\n",
    "    System.out.println(\"Oops ! Not found...\");\n",
    "}"
   ]
  },
  {
   "cell_type": "markdown",
   "id": "2ae9b8c8-ff9a-47b7-9a9d-3997f6890db1",
   "metadata": {},
   "source": [
    "- Now process all intersections..."
   ]
  },
  {
   "cell_type": "code",
   "execution_count": null,
   "id": "efb14c7c-731f-4d1d-8362-3c71ed7c122e",
   "metadata": {},
   "outputs": [],
   "source": []
  }
 ],
 "metadata": {
  "kernelspec": {
   "display_name": "Java",
   "language": "java",
   "name": "java"
  },
  "language_info": {
   "codemirror_mode": "java",
   "file_extension": ".jshell",
   "mimetype": "text/x-java-source",
   "name": "Java",
   "pygments_lexer": "java",
   "version": "11.0.8+10-LTS"
  }
 },
 "nbformat": 4,
 "nbformat_minor": 5
}
