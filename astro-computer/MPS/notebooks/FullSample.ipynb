{
 "cells": [
  {
   "cell_type": "markdown",
   "id": "b4c5a305-0706-4862-bb7e-a33f6af6beae",
   "metadata": {},
   "source": [
    "# Full Resolution - 2 cones"
   ]
  },
  {
   "cell_type": "code",
   "execution_count": 10,
   "id": "11a0bcee-dae4-46bc-bb54-b3e507aeda5f",
   "metadata": {},
   "outputs": [],
   "source": [
    "%classpath add jar \"../build/libs/MPS-1.0-all.jar\""
   ]
  },
  {
   "cell_type": "markdown",
   "id": "1cc4508b-3f56-4a7e-9332-026c005c2cbc",
   "metadata": {},
   "source": [
    "We generate the almanac for:\n",
    "- 2025-09-26T03:15:00 UTC\n",
    "- Saturn\n",
    "- Jupiter\n",
    "- Rigel\n",
    "- Aldebaran\n",
    "\n",
    "And we want to get GHA, Decl, and Observed Altitude from N 47 40.67 / W 3 8.14."
   ]
  },
  {
   "cell_type": "code",
   "execution_count": 11,
   "id": "69ca9354-6fd1-457c-b149-90078f3ebfb5",
   "metadata": {},
   "outputs": [
    {
     "name": "stdout",
     "output_type": "stream",
     "text": [
      "Calculation launched for 2025-Sep-26 03:15:00 UTC\n"
     ]
    }
   ],
   "source": [
    "import calc.calculation.AstroComputerV2;\n",
    "\n",
    "import java.text.SimpleDateFormat;\n",
    "import java.util.Calendar;\n",
    "import java.util.TimeZone;\n",
    "\n",
    "import calc.CelestialDeadReckoning;\n",
    "import calc.GeoPoint;\n",
    "import calc.GeomUtil;\n",
    "import mps.MPSToolBox;\n",
    "\n",
    "private final static SimpleDateFormat SDF_UTC = new SimpleDateFormat(\"yyyy-MMM-dd HH:mm:ss 'UTC'\");\n",
    "// static {\n",
    "    SDF_UTC.setTimeZone(TimeZone.getTimeZone(\"Etc/UTC\"));\n",
    "//}\n",
    "\n",
    "\n",
    "// Point de reference\n",
    "double userLatitude = 47.677667;\n",
    "double userLongitude = -3.135667;\n",
    "\n",
    "AstroComputerV2 ac = new AstroComputerV2();\n",
    "\n",
    "/*\n",
    " * 26-Sep-2025 03:15:00 UTC\n",
    " */\n",
    "Calendar date = Calendar.getInstance(TimeZone.getTimeZone(\"Etc/UTC\")); // Now\n",
    "date.set(Calendar.YEAR, 2025);\n",
    "date.set(Calendar.MONTH, Calendar.SEPTEMBER);\n",
    "date.set(Calendar.DAY_OF_MONTH, 26);\n",
    "date.set(Calendar.HOUR_OF_DAY, 3); // and not just HOUR !!!!\n",
    "date.set(Calendar.MINUTE, 15);\n",
    "date.set(Calendar.SECOND, 0);\n",
    "\n",
    "System.out.printf(\"Calculation launched for %s\\n\", SDF_UTC.format(date.getTime()));\n",
    "\n",
    "ac.calculate(date.get(Calendar.YEAR),\n",
    "        date.get(Calendar.MONTH) + 1,\n",
    "        date.get(Calendar.DAY_OF_MONTH),\n",
    "        date.get(Calendar.HOUR_OF_DAY), // and not just HOUR !!!!\n",
    "        date.get(Calendar.MINUTE),\n",
    "        date.get(Calendar.SECOND),\n",
    "        true);\n",
    "\n",
    "double deltaT = ac.getDeltaT(); // Unused for now\n",
    "\n",
    "final double sunGHA = ac.getSunGHA();\n",
    "final double sunDecl = ac.getSunDecl();\n",
    "\n",
    "final double moonGHA = ac.getMoonGHA();\n",
    "final double moonDecl = ac.getMoonDecl();\n",
    "\n",
    "final double saturnGHA = ac.getSaturnGHA();\n",
    "final double saturnDecl = ac.getSaturnDecl();\n",
    "\n",
    "final double jupiterGHA = ac.getJupiterGHA();\n",
    "final double jupiterDecl = ac.getJupiterDecl();\n",
    "\n",
    "// Star rigel = Star.getStar(\"Rigel\"); // Case sensitive name\n",
    "ac.starPos(\"Rigel\");\n",
    "final double rigelSHA = ac.getStarSHA(\"Rigel\");\n",
    "final double rigelGHA = ac.getStarGHA(\"Rigel\");\n",
    "final double rigelDecl = ac.getStarDec(\"Rigel\");\n",
    "\n",
    "ac.starPos(\"Aldebaran\");\n",
    "final double aldebaranSHA = ac.getStarSHA(\"Aldebaran\");\n",
    "final double aldebaranGHA = ac.getStarGHA(\"Aldebaran\");\n",
    "final double aldebaranDecl = ac.getStarDec(\"Aldebaran\");\n",
    "\n",
    "CelestialDeadReckoning dr = MPSToolBox.calculateDR(sunGHA, sunDecl, userLatitude, userLongitude).calculate(); // All angles in degrees\n",
    "double he = dr.getHe();\n",
    "// double z = dr.getZ();\n",
    "double sunObsAlt = he; // Shoud be read (and corrected) from the sextant\n",
    "\n",
    "dr = MPSToolBox.calculateDR(moonGHA, moonDecl, userLatitude, userLongitude).calculate(); // All angles in degrees\n",
    "he = dr.getHe();\n",
    "// double z = dr.getZ();\n",
    "double moonObsAlt = he; // Shoud be read (and corrected) from the sextant\n",
    "\n",
    "dr = MPSToolBox.calculateDR(saturnGHA, saturnDecl, userLatitude, userLongitude).calculate(); // All angles in degrees\n",
    "he = dr.getHe();\n",
    "// double z = dr.getZ();\n",
    "double saturnObsAlt = he; // Shoud be read (and corrected) from the sextant\n",
    "\n",
    "dr = MPSToolBox.calculateDR(jupiterGHA, jupiterDecl, userLatitude, userLongitude).calculate(); // All angles in degrees\n",
    "he = dr.getHe();\n",
    "// double z = dr.getZ();\n",
    "double jupiterObsAlt = he; // Shoud be read (and corrected) from the sextant\n",
    "\n",
    "dr = MPSToolBox.calculateDR(rigelGHA, rigelDecl, userLatitude, userLongitude).calculate(); // All angles in degrees\n",
    "he = dr.getHe();\n",
    "// double z = dr.getZ();\n",
    "double rigelObsAlt = he; // Shoud be read (and corrected) from the sextant\n",
    "\n",
    "dr = MPSToolBox.calculateDR(aldebaranGHA, aldebaranDecl, userLatitude, userLongitude).calculate(); // All angles in degrees\n",
    "he = dr.getHe();\n",
    "// double z = dr.getZ();\n",
    "double aldebaranObsAlt = he; // Shoud be read (and corrected) from the sextant\n",
    "\n"
   ]
  },
  {
   "cell_type": "code",
   "execution_count": 13,
   "id": "a2de65be-6de3-4c48-9dbb-a942e9fb1c23",
   "metadata": {},
   "outputs": [
    {
     "name": "stdout",
     "output_type": "stream",
     "text": [
      "Sun:\t ObsAlt: -27º59.56',\t GHA:  230º54.36',\t Decl: 1º18.81'S\n",
      "Moon:\t ObsAlt: -64º38.88',\t GHA:  186º45.86',\t Decl: 22º29.58'S\n",
      "----------------------------------------------------\n",
      "Saturn:\t ObsAlt:  22º16.56',\t GHA:  54º39.20',\t Decl: 3º02.88'S\n",
      "Jupiter:\t ObsAlt:  33º59.69',\t GHA:  300º20.17',\t Decl: 21º40.69'N\n",
      "Rigel:\t ObsAlt:  28º51.39',\t GHA:  334º59.47',\t Decl: 8º10.09'S\n",
      "Aldebaran:\t ObsAlt:  55º20.72',\t GHA:  344º35.06',\t Decl: 16º33.74'N\n"
     ]
    },
    {
     "data": {
      "text/plain": [
       "java.io.PrintStream@71bd7eb7"
      ]
     },
     "execution_count": 13,
     "metadata": {},
     "output_type": "execute_result"
    }
   ],
   "source": [
    "System.out.printf(\"Sun:\\t ObsAlt: %s,\\t GHA: %s,\\t Decl: %s\\n\", \n",
    "                  GeomUtil.decToSex(sunObsAlt, GeomUtil.SHELL, GeomUtil.NONE),\n",
    "                  GeomUtil.decToSex(sunGHA, GeomUtil.SHELL, GeomUtil.NONE),\n",
    "                  GeomUtil.decToSex(sunDecl, GeomUtil.SHELL, GeomUtil.NS));\n",
    "System.out.printf(\"Moon:\\t ObsAlt: %s,\\t GHA: %s,\\t Decl: %s\\n\", \n",
    "                  GeomUtil.decToSex(moonObsAlt, GeomUtil.SHELL, GeomUtil.NONE),\n",
    "                  GeomUtil.decToSex(moonGHA, GeomUtil.SHELL, GeomUtil.NONE),\n",
    "                  GeomUtil.decToSex(moonDecl, GeomUtil.SHELL, GeomUtil.NS));\n",
    "System.out.println(\"----------------------------------------------------\");\n",
    "System.out.printf(\"Saturn:\\t ObsAlt: %s,\\t GHA: %s,\\t Decl: %s\\n\", \n",
    "                  GeomUtil.decToSex(saturnObsAlt, GeomUtil.SHELL, GeomUtil.NONE),\n",
    "                  GeomUtil.decToSex(saturnGHA, GeomUtil.SHELL, GeomUtil.NONE),\n",
    "                  GeomUtil.decToSex(saturnDecl, GeomUtil.SHELL, GeomUtil.NS));\n",
    "System.out.printf(\"Jupiter:\\t ObsAlt: %s,\\t GHA: %s,\\t Decl: %s\\n\", \n",
    "                  GeomUtil.decToSex(jupiterObsAlt, GeomUtil.SHELL, GeomUtil.NONE),\n",
    "                  GeomUtil.decToSex(jupiterGHA, GeomUtil.SHELL, GeomUtil.NONE),\n",
    "                  GeomUtil.decToSex(jupiterDecl, GeomUtil.SHELL, GeomUtil.NS));\n",
    "System.out.printf(\"Rigel:\\t ObsAlt: %s,\\t GHA: %s,\\t Decl: %s\\n\", \n",
    "                  GeomUtil.decToSex(rigelObsAlt, GeomUtil.SHELL, GeomUtil.NONE),\n",
    "                  GeomUtil.decToSex(rigelGHA, GeomUtil.SHELL, GeomUtil.NONE),\n",
    "                  GeomUtil.decToSex(rigelDecl, GeomUtil.SHELL, GeomUtil.NS));\n",
    "System.out.printf(\"Aldebaran:\\t ObsAlt: %s,\\t GHA: %s,\\t Decl: %s\\n\", \n",
    "                  GeomUtil.decToSex(aldebaranObsAlt, GeomUtil.SHELL, GeomUtil.NONE),\n",
    "                  GeomUtil.decToSex(aldebaranGHA, GeomUtil.SHELL, GeomUtil.NONE),\n",
    "                  GeomUtil.decToSex(aldebaranDecl, GeomUtil.SHELL, GeomUtil.NS));"
   ]
  },
  {
   "cell_type": "markdown",
   "id": "f9c9e574-67df-4a0f-8aa0-987c6434f956",
   "metadata": {},
   "source": [
    "And now, we have all the data, let's proceed!"
   ]
  },
  {
   "cell_type": "code",
   "execution_count": null,
   "id": "e10d1f73-ce0f-4063-ac14-cd883c78ba82",
   "metadata": {},
   "outputs": [],
   "source": []
  }
 ],
 "metadata": {
  "kernelspec": {
   "display_name": "Java",
   "language": "java",
   "name": "java"
  },
  "language_info": {
   "codemirror_mode": "java",
   "file_extension": ".jshell",
   "mimetype": "text/x-java-source",
   "name": "Java",
   "pygments_lexer": "java",
   "version": "11.0.8+10-LTS"
  }
 },
 "nbformat": 4,
 "nbformat_minor": 5
}
