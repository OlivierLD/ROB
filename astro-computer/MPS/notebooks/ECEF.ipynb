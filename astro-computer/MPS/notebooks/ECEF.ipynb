{
 "cells": [
  {
   "cell_type": "markdown",
   "id": "68d38ad0-6232-4d80-bdd4-6a9c092139aa",
   "metadata": {},
   "source": [
    "# MPS, Earth Centered Earth Fixed"
   ]
  },
  {
   "cell_type": "markdown",
   "id": "06f896a0-a13f-47f9-adaf-9cde38abbc72",
   "metadata": {},
   "source": [
    "We want to check if $$ x^2 + y^2 + z^ 2 = 1 $$"
   ]
  },
  {
   "cell_type": "code",
   "execution_count": 11,
   "id": "065ea27e-66da-435d-974c-d2af30d229e3",
   "metadata": {},
   "outputs": [],
   "source": [
    "%classpath add jar \"../build/libs/MPS-1.0-all.jar\""
   ]
  },
  {
   "cell_type": "markdown",
   "id": "51108759-3267-4907-9fd5-ae03dee360b5",
   "metadata": {},
   "source": [
    "Say we have \n",
    "- L = N 47°40.66' (47.677667)\n",
    "- G = W 3°08.14' (-3.135667)\n",
    "\n",
    "```\n",
    "x = r . cos L . cos G\n",
    "y = r . cos L . sin G\n",
    "z = r . sin L\n",
    "```\n",
    "\n",
    "```\n",
    "x = 1 . cos(47.677667) . cos(-3.135667)  \n",
    "y = 1 . cos(47.677667) . sin(-3.135667)  \n",
    "z = 1 . sin(47.677667)  \n",
    "```\n"
   ]
  },
  {
   "cell_type": "code",
   "execution_count": 12,
   "id": "518c1b56-5b74-460b-b577-0bec4dc7ab9d",
   "metadata": {},
   "outputs": [
    {
     "name": "stdout",
     "output_type": "stream",
     "text": [
      "x=0.672293\n",
      "y=-0.036830\n",
      "z=0.739369\n"
     ]
    },
    {
     "data": {
      "text/plain": [
       "java.io.PrintStream@12cdf224"
      ]
     },
     "execution_count": 12,
     "metadata": {},
     "output_type": "execute_result"
    }
   ],
   "source": [
    "double latitude  = 47.677667;\n",
    "double longitude = -3.135667;\n",
    "double r = 1d;\n",
    "\n",
    "double x = r * Math.cos(Math.toRadians(latitude)) * Math.cos(Math.toRadians(longitude));\n",
    "double y = r * Math.cos(Math.toRadians(latitude)) * Math.sin(Math.toRadians(longitude));\n",
    "double z = r * Math.sin(Math.toRadians(latitude));\n",
    "\n",
    "System.out.printf(\"x=%f\\ny=%f\\nz=%f\\n\", x, y, z);"
   ]
  },
  {
   "cell_type": "markdown",
   "id": "a42f9438-1810-4f32-be0f-c0cc0b8074c7",
   "metadata": {},
   "source": [
    "We want to check if \n",
    "```\n",
    "x^2 + y^2 + z^2 = 1\n",
    "```"
   ]
  },
  {
   "cell_type": "code",
   "execution_count": 13,
   "id": "3fb36ca0-c028-45ef-9463-3b489446e158",
   "metadata": {},
   "outputs": [
    {
     "name": "stdout",
     "output_type": "stream",
     "text": [
      "Sum is 1.000000 (diff is 2.2204460493e-16).\n",
      "QED.\n"
     ]
    }
   ],
   "source": [
    "double sum = (x * x) + (y * y) + (z * z);\n",
    "System.out.printf(\"Sum is %f (diff is %.10e).\\n\", sum, Math.abs(sum - 1.0));\n",
    "System.out.println((Math.abs(sum - 1.0) < 10e-10) ? \"QED.\" : String.format(\"Oops, diff is % 10e\", (Math.abs(sum - 1.0))));"
   ]
  },
  {
   "cell_type": "markdown",
   "id": "669815dc-02cf-421f-b94f-785b00347935",
   "metadata": {},
   "source": [
    "### Done."
   ]
  },
  {
   "cell_type": "code",
   "execution_count": null,
   "id": "e44c6b72-881f-4352-88f8-42ee2fc73f31",
   "metadata": {},
   "outputs": [],
   "source": []
  }
 ],
 "metadata": {
  "kernelspec": {
   "display_name": "Java",
   "language": "java",
   "name": "java"
  },
  "language_info": {
   "codemirror_mode": "java",
   "file_extension": ".jshell",
   "mimetype": "text/x-java-source",
   "name": "Java",
   "pygments_lexer": "java",
   "version": "11.0.8+10-LTS"
  }
 },
 "nbformat": 4,
 "nbformat_minor": 5
}
