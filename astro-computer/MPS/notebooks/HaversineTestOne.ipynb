{
 "cells": [
  {
   "cell_type": "markdown",
   "id": "3c37e41a-8aa1-4987-a352-ddcc59fec026",
   "metadata": {},
   "source": [
    "# Haversine Basic\n",
    "\n",
    "See about haversine the following documents \n",
    "- [Haversine Formula](https://en.wikipedia.org/wiki/Haversine_formula) \n",
    "- [Formule de Haversine](https://fr.wikipedia.org/wiki/Formule_de_haversine).\n"
   ]
  },
  {
   "cell_type": "code",
   "execution_count": 11,
   "id": "836eb20e-82f7-4809-9bf2-8bfbfe82b719",
   "metadata": {},
   "outputs": [],
   "source": [
    "%classpath add jar \"../build/libs/MPS-1.0-all.jar\""
   ]
  },
  {
   "cell_type": "code",
   "execution_count": 12,
   "id": "1542b2a9-3a89-4b8e-95b2-ab707d662ed7",
   "metadata": {},
   "outputs": [
    {
     "name": "stdout",
     "output_type": "stream",
     "text": [
      "Hi there!\n"
     ]
    }
   ],
   "source": [
    "System.out.println(\"Hi there!\");"
   ]
  },
  {
   "cell_type": "code",
   "execution_count": 13,
   "id": "102032bd-2515-433e-8f61-dba301e6f22e",
   "metadata": {},
   "outputs": [],
   "source": [
    "import calc.GeoPoint;\n",
    "import calc.GeomUtil;\n",
    "\n",
    "GeoPoint honolulu = new GeoPoint(21.3, -157.8167);\n",
    "GeoPoint palmyra = new GeoPoint(5.8833, -162.0833);\n",
    "\n",
    "GeoPoint belz = new GeoPoint(47.677667, -3.135667);"
   ]
  },
  {
   "cell_type": "markdown",
   "id": "b1a65b7f-22e8-4e0f-98e4-f9af6fc9646a",
   "metadata": {},
   "source": [
    "## Case 1\n",
    "### Input parameters are Starting point, Distance, ICA\n",
    "\n",
    "- Start from a given point on Earth (Latitude & Longitude, in degrees)\n",
    "- Start with a given ICA (Initial Course Angle, in degrees)\n",
    "- Sail a given amount of nautical miles\n",
    "\n",
    "The question is _where do we arrive?_"
   ]
  },
  {
   "cell_type": "code",
   "execution_count": 14,
   "id": "a50c9733-c747-4c2f-b203-31ee39229009",
   "metadata": {},
   "outputs": [
    {
     "name": "stdout",
     "output_type": "stream",
     "text": [
      "Starting from Belz (47º40.66'N / 3º08.14'W), heading 8.8 degrees (initilly), after 4319.65 nm, arriving 59º35.60'N / 160º10.26'E\n"
     ]
    },
    {
     "data": {
      "text/plain": [
       "java.io.PrintStream@957945e"
      ]
     },
     "execution_count": 14,
     "metadata": {},
     "output_type": "execute_result"
    }
   ],
   "source": [
    "double distInKm = 8000;\n",
    "double ica = 8.8;        // in degrees\n",
    "\n",
    "final GeoPoint arriving = GeomUtil.haversineInv(belz, distInKm / 1.852, 8.80);\n",
    "\n",
    "System.out.printf(\"Starting from Belz (%s), heading 8.8 degrees (initilly), after %.02f nm, arriving %s\\n\", \n",
    "                  belz.toString(),\n",
    "                  (distInKm / 1.852), \n",
    "                  arriving.toString()); // Wahaha ! Over the North pole !"
   ]
  },
  {
   "cell_type": "markdown",
   "id": "300f528d-1346-4739-9be6-73b534f1af46",
   "metadata": {},
   "source": [
    "## Case 2\n",
    "### Input parameters are Starting Point, Arriving Point\n",
    "\n",
    "- We know Point A and Point B (both identified by the latitude and longitude, in degrees)\n",
    "\n",
    "The questions are: \n",
    "- What is the GC (Great Circle) distance between them?\n",
    "- What is the ICA (Initial Course Angle) to start with?\n"
   ]
  },
  {
   "cell_type": "code",
   "execution_count": 15,
   "id": "a26a36d5-91ea-4b1e-8761-9b74b9006b1d",
   "metadata": {},
   "outputs": [
    {
     "name": "stdout",
     "output_type": "stream",
     "text": [
      "Distance is 4319.65 nm\n",
      "ARI is 8.80°\n"
     ]
    },
    {
     "data": {
      "text/plain": [
       "java.io.PrintStream@957945e"
      ]
     },
     "execution_count": 15,
     "metadata": {},
     "output_type": "execute_result"
    }
   ],
   "source": [
    "double gcDist = GeomUtil.haversineNm(belz, new GeoPoint(GeomUtil.sexToDec(\"N 59 35.60\"), GeomUtil.sexToDec(\"E 160 10.26\")));\n",
    "System.out.printf(\"Distance is %.02f nm\\n\", gcDist);\n",
    "double ari = GeomUtil.getICA(belz, new GeoPoint(GeomUtil.sexToDec(\"N 59 35.60\"), GeomUtil.sexToDec(\"E 160º10.26\")));\n",
    "System.out.printf(\"ARI is %.02f°\\n\", ari);"
   ]
  },
  {
   "cell_type": "markdown",
   "id": "bab2cec8-26cb-4382-a4a6-9e194268848e",
   "metadata": {},
   "source": [
    "# Done"
   ]
  },
  {
   "cell_type": "code",
   "execution_count": null,
   "id": "4f7aafb5-061e-4bb8-91d2-f78502797c6c",
   "metadata": {},
   "outputs": [],
   "source": []
  }
 ],
 "metadata": {
  "kernelspec": {
   "display_name": "Java",
   "language": "java",
   "name": "java"
  },
  "language_info": {
   "codemirror_mode": "java",
   "file_extension": ".jshell",
   "mimetype": "text/x-java-source",
   "name": "Java",
   "pygments_lexer": "java",
   "version": "11.0.8+10-LTS"
  }
 },
 "nbformat": 4,
 "nbformat_minor": 5
}
